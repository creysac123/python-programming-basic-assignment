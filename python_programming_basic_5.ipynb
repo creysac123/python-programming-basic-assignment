{
 "cells": [
  {
   "cell_type": "markdown",
   "id": "0f0af68b-4da6-4267-bf7e-fd479d1e49f4",
   "metadata": {},
   "source": [
    "1. Write a Python Program to Find LCM?"
   ]
  },
  {
   "cell_type": "code",
   "execution_count": 7,
   "id": "793e9e53-8b77-487f-83d2-eb2b3ef6c2ac",
   "metadata": {},
   "outputs": [],
   "source": [
    "def lcm(a,b):\n",
    "    '''\n",
    "    Function which return the LCM of two number.\n",
    "    '''\n",
    "    high = max(a,b)\n",
    "    \n",
    "    while True:\n",
    "        if (high%a==0) and (high%b==0):\n",
    "            break\n",
    "        else:\n",
    "            high += 1\n",
    "            \n",
    "    return high"
   ]
  },
  {
   "cell_type": "code",
   "execution_count": 8,
   "id": "42613972-2ebb-46da-a6cb-baa38b6a3459",
   "metadata": {},
   "outputs": [
    {
     "name": "stdout",
     "output_type": "stream",
     "text": [
      "6\n",
      "8\n"
     ]
    }
   ],
   "source": [
    "print(lcm(2,3))\n",
    "print(lcm(8,8))"
   ]
  },
  {
   "cell_type": "markdown",
   "id": "0a94e37d-6ce1-4fe2-aeb4-64da7bf3db47",
   "metadata": {},
   "source": [
    "2. Write a Python Program to Find HCF?"
   ]
  },
  {
   "cell_type": "code",
   "execution_count": 9,
   "id": "41c90a4a-b51d-48f9-8e7a-e5b54e50df58",
   "metadata": {},
   "outputs": [],
   "source": [
    "def hcf(a, b):\n",
    "    \n",
    "    low = min(a,b)\n",
    "    \n",
    "    for i in range(1, low+1):\n",
    "        if (a%i==0) and (b%i==0):\n",
    "            hcf = i\n",
    "            \n",
    "    return hcf"
   ]
  },
  {
   "cell_type": "code",
   "execution_count": 12,
   "id": "43b72249-2ba1-470d-886a-d9c18228e5d4",
   "metadata": {},
   "outputs": [
    {
     "name": "stdout",
     "output_type": "stream",
     "text": [
      "4\n"
     ]
    }
   ],
   "source": [
    "print(hcf(4,8))"
   ]
  },
  {
   "cell_type": "markdown",
   "id": "1b18b562-ccf8-470e-ab84-52ff92ceb66e",
   "metadata": {},
   "source": [
    "3. Write a Python Program to Convert Decimal to Binary, Octal and Hexadecimal?"
   ]
  },
  {
   "cell_type": "code",
   "execution_count": 15,
   "id": "62a0d7f7-1651-45b4-ade5-e25feb5f52c1",
   "metadata": {},
   "outputs": [],
   "source": [
    "def conversion(a):\n",
    "    print(\"Binary:      \", bin(a).replace(\"0b\",\"\"))\n",
    "    print(\"Octal:       \", oct(a).replace(\"0o\",\"\"))\n",
    "    print(\"Hexadecimal: \", hex(a).replace(\"0x\",\"\"))"
   ]
  },
  {
   "cell_type": "code",
   "execution_count": 16,
   "id": "e22f9aee-a017-4434-ae59-dafda1e25822",
   "metadata": {},
   "outputs": [
    {
     "name": "stdout",
     "output_type": "stream",
     "text": [
      "Binary:       1010\n",
      "Octal:        12\n",
      "Hexadecimal:  a\n"
     ]
    }
   ],
   "source": [
    "conversion(10)"
   ]
  },
  {
   "cell_type": "markdown",
   "id": "29b9b9c8-2792-4124-bee4-e90453c5041d",
   "metadata": {},
   "source": [
    "4. Write a Python Program To Find ASCII value of a character?"
   ]
  },
  {
   "cell_type": "code",
   "execution_count": 18,
   "id": "6a92f051-d26f-4b57-823f-3cceba333cf3",
   "metadata": {},
   "outputs": [
    {
     "name": "stdin",
     "output_type": "stream",
     "text": [
      "Enter a character:  u\n"
     ]
    },
    {
     "name": "stdout",
     "output_type": "stream",
     "text": [
      "The ASCII value of u is: 117\n"
     ]
    }
   ],
   "source": [
    "character = input(\"Enter a character: \")\n",
    "\n",
    "ascii_value = ord(character)\n",
    "\n",
    "print(\"The ASCII value of\", character, \"is:\", ascii_value)\n"
   ]
  },
  {
   "cell_type": "markdown",
   "id": "b811f7cc-ee78-43e2-9c91-ec451e63394a",
   "metadata": {},
   "source": [
    "5. Write a Python Program to Make a Simple Calculator with 4 basic mathematical operations?"
   ]
  },
  {
   "cell_type": "code",
   "execution_count": 5,
   "id": "8f9ebb23-f612-4409-bda2-5efdaec5ed0b",
   "metadata": {},
   "outputs": [
    {
     "name": "stdout",
     "output_type": "stream",
     "text": [
      "Basic Calculator\n",
      "Select operation:\n",
      "1. Addition (+)\n",
      "2. Subtraction (-)\n",
      "3. Multiplication (*)\n",
      "4. Division (/)\n",
      "5. Exit\n"
     ]
    },
    {
     "name": "stdin",
     "output_type": "stream",
     "text": [
      "Enter choice (1-5):  3\n",
      "Enter the first number:  45\n",
      "Enter the second number:  4\n"
     ]
    },
    {
     "name": "stdout",
     "output_type": "stream",
     "text": [
      "45.0 * 4.0 = 180.0\n",
      "\n",
      "Basic Calculator\n",
      "Select operation:\n",
      "1. Addition (+)\n",
      "2. Subtraction (-)\n",
      "3. Multiplication (*)\n",
      "4. Division (/)\n",
      "5. Exit\n"
     ]
    },
    {
     "name": "stdin",
     "output_type": "stream",
     "text": [
      "Enter choice (1-5):  5\n"
     ]
    },
    {
     "name": "stdout",
     "output_type": "stream",
     "text": [
      "Exiting the calculator...\n"
     ]
    }
   ],
   "source": [
    "while True:\n",
    "    print(\"Basic Calculator\")\n",
    "    print(\"Select operation:\")\n",
    "    print(\"1. Addition (+)\")\n",
    "    print(\"2. Subtraction (-)\")\n",
    "    print(\"3. Multiplication (*)\")\n",
    "    print(\"4. Division (/)\")\n",
    "    print(\"5. Exit\")\n",
    "\n",
    "    choice = input(\"Enter choice (1-5): \")\n",
    "\n",
    "    if choice == '5':\n",
    "        print(\"Exiting the calculator...\")\n",
    "        break\n",
    "\n",
    "    if choice not in ['1', '2', '3', '4']:\n",
    "        print(\"Invalid choice. Please try again.\")\n",
    "        continue\n",
    "\n",
    "    num1 = float(input(\"Enter the first number: \"))\n",
    "    num2 = float(input(\"Enter the second number: \"))\n",
    "\n",
    "    if choice == '1':\n",
    "        result = num1 + num2\n",
    "        operator = '+'\n",
    "    elif choice == '2':\n",
    "        result = num1 - num2\n",
    "        operator = '-'\n",
    "    elif choice == '3':\n",
    "        result = num1 * num2\n",
    "        operator = '*'\n",
    "    elif choice == '4':\n",
    "        if num2 == 0:\n",
    "            print(\"Error: Division by zero is not allowed.\")\n",
    "            continue\n",
    "        result = num1 / num2\n",
    "        operator = '/'\n",
    "\n",
    "    print(f\"{num1} {operator} {num2} = {result}\\n\")\n"
   ]
  },
  {
   "cell_type": "code",
   "execution_count": null,
   "id": "64d51157-3890-4039-9f42-1a9adfeffd31",
   "metadata": {},
   "outputs": [],
   "source": []
  }
 ],
 "metadata": {
  "kernelspec": {
   "display_name": "Python 3 (ipykernel)",
   "language": "python",
   "name": "python3"
  },
  "language_info": {
   "codemirror_mode": {
    "name": "ipython",
    "version": 3
   },
   "file_extension": ".py",
   "mimetype": "text/x-python",
   "name": "python",
   "nbconvert_exporter": "python",
   "pygments_lexer": "ipython3",
   "version": "3.10.6"
  }
 },
 "nbformat": 4,
 "nbformat_minor": 5
}
