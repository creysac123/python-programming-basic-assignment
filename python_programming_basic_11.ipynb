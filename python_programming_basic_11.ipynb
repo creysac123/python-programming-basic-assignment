{
 "cells": [
  {
   "cell_type": "markdown",
   "id": "eed0582d-02e0-4746-9235-b756f6c35955",
   "metadata": {},
   "source": [
    "1. Write a Python program to find words which are greater than given length k?"
   ]
  },
  {
   "cell_type": "code",
   "execution_count": 1,
   "id": "4f40f7d3-00a9-43aa-9223-67358ee5c224",
   "metadata": {},
   "outputs": [
    {
     "name": "stdin",
     "output_type": "stream",
     "text": [
      "Enter a sentence:  hi my name is creysac\n",
      "Enter the minimum length of words to search for:  5\n"
     ]
    },
    {
     "name": "stdout",
     "output_type": "stream",
     "text": [
      "Words longer than length 5 : ['creysac']\n"
     ]
    }
   ],
   "source": [
    "def find_long_words(sentence, k):\n",
    "    words = sentence.split()\n",
    "    long_words = []\n",
    "    for word in words:\n",
    "        if len(word) > k:\n",
    "            long_words.append(word)\n",
    "    return long_words\n",
    "\n",
    "input_sentence = input(\"Enter a sentence: \")\n",
    "length_threshold = int(input(\"Enter the minimum length of words to search for: \"))\n",
    "\n",
    "result = find_long_words(input_sentence, length_threshold)\n",
    "print(\"Words longer than length\", length_threshold, \":\", result)\n"
   ]
  },
  {
   "cell_type": "markdown",
   "id": "d3fe27d0-eef4-40e9-bee2-2c36a2bb6d39",
   "metadata": {},
   "source": [
    "2. Write a Python program for removing i-th character from a string?"
   ]
  },
  {
   "cell_type": "code",
   "execution_count": 2,
   "id": "84f59911-34f4-4124-91fb-eb5dc6e464dd",
   "metadata": {},
   "outputs": [
    {
     "name": "stdin",
     "output_type": "stream",
     "text": [
      "Enter a string:  creysac\n"
     ]
    },
    {
     "data": {
      "text/plain": [
       "'crysac'"
      ]
     },
     "execution_count": 2,
     "metadata": {},
     "output_type": "execute_result"
    }
   ],
   "source": [
    "def remove_char(string: str, i):\n",
    "    string = string.replace(string[i], '')\n",
    "    return string\n",
    "\n",
    "input_string = input(\"Enter a string: \")\n",
    "remove_char(input_string, 2)"
   ]
  },
  {
   "cell_type": "markdown",
   "id": "4c8a4282-dba3-4db2-8c71-7b7b5e81d78d",
   "metadata": {},
   "source": [
    "3. Write a Python program to split and join a string?"
   ]
  },
  {
   "cell_type": "code",
   "execution_count": 3,
   "id": "1c1ed6fc-e4fa-4b47-949b-4250d962300d",
   "metadata": {},
   "outputs": [
    {
     "name": "stdout",
     "output_type": "stream",
     "text": [
      "['Write', 'a', 'Python', 'program', 'to', 'split', 'and', 'join', 'a', 'string?']\n",
      "Write a Python program to split and join a string?\n"
     ]
    }
   ],
   "source": [
    "string = \"Write a Python program to split and join a string?\"\n",
    "\n",
    "split = string.split(' ')\n",
    "print(split)\n",
    "\n",
    "join = \" \".join(split)\n",
    "print(join)"
   ]
  },
  {
   "cell_type": "markdown",
   "id": "65729cff-75bc-40d2-a799-25c244ead54e",
   "metadata": {},
   "source": [
    "4. Write a Python to check if a given string is binary string or not?"
   ]
  },
  {
   "cell_type": "code",
   "execution_count": 5,
   "id": "d4a7c817-c6a0-486f-bc70-32caf80b35c5",
   "metadata": {},
   "outputs": [
    {
     "name": "stdin",
     "output_type": "stream",
     "text": [
      "Enter a string:  101\n"
     ]
    },
    {
     "name": "stdout",
     "output_type": "stream",
     "text": [
      "The string is a binary string.\n"
     ]
    }
   ],
   "source": [
    "def is_binary_string(string):\n",
    "    for char in string:\n",
    "        if char != '0' and char != '1':\n",
    "            return False\n",
    "    return True\n",
    "\n",
    "input_string = input(\"Enter a string: \")\n",
    "\n",
    "if is_binary_string(input_string):\n",
    "    print(\"The string is a binary string.\")\n",
    "else:\n",
    "    print(\"The string is not a binary string.\")\n"
   ]
  },
  {
   "cell_type": "markdown",
   "id": "9e038f3c-6883-4731-bec5-1d293e38b9e0",
   "metadata": {},
   "source": [
    "5. Write a Python program to find uncommon words from two Strings?"
   ]
  },
  {
   "cell_type": "code",
   "execution_count": 6,
   "id": "b3a81777-3f42-43a0-a408-6db93a42cfe7",
   "metadata": {},
   "outputs": [
    {
     "name": "stdin",
     "output_type": "stream",
     "text": [
      "Enter the first string:  hi my name is creysac\n",
      "Enter the second string:  hi my name is joshua\n"
     ]
    },
    {
     "name": "stdout",
     "output_type": "stream",
     "text": [
      "Uncommon words: {'creysac', 'joshua'}\n"
     ]
    }
   ],
   "source": [
    "def find_uncommon_words(str1, str2):\n",
    "    words1 = set(str1.split())\n",
    "    words2 = set(str2.split())\n",
    "    uncommon_words = words1.symmetric_difference(words2)\n",
    "    return uncommon_words\n",
    "\n",
    "string1 = input(\"Enter the first string: \")\n",
    "string2 = input(\"Enter the second string: \")\n",
    "\n",
    "result = find_uncommon_words(string1, string2)\n",
    "print(\"Uncommon words:\", result)\n"
   ]
  },
  {
   "cell_type": "markdown",
   "id": "af5e7efe-133c-49ad-a883-403ab88dcc40",
   "metadata": {},
   "source": [
    "6. Write a Python to find all duplicate characters in string?"
   ]
  },
  {
   "cell_type": "code",
   "execution_count": 7,
   "id": "0925c8ec-6d97-4426-ae90-d974da592827",
   "metadata": {},
   "outputs": [
    {
     "name": "stdin",
     "output_type": "stream",
     "text": [
      "Enter a string:  hello everyone\n"
     ]
    },
    {
     "name": "stdout",
     "output_type": "stream",
     "text": [
      "Duplicate characters: {'o', 'e', 'l'}\n"
     ]
    }
   ],
   "source": [
    "def find_duplicate_characters(string: str):\n",
    "    duplicate = []\n",
    "    for i in string:\n",
    "        if string.count(i) > 1:\n",
    "            duplicate.append(i)\n",
    "            \n",
    "    return set(duplicate)\n",
    "\n",
    "input_string = input(\"Enter a string: \")\n",
    "\n",
    "result = find_duplicate_characters(input_string)\n",
    "print(\"Duplicate characters:\", result)\n"
   ]
  },
  {
   "cell_type": "markdown",
   "id": "7fd18028-916c-4909-9f5d-831affe37524",
   "metadata": {},
   "source": [
    "7. Write a Python Program to check if a string contains any special character?"
   ]
  },
  {
   "cell_type": "code",
   "execution_count": 10,
   "id": "8b596f13-d2d4-4e99-9aab-995cb00a4638",
   "metadata": {},
   "outputs": [
    {
     "name": "stdin",
     "output_type": "stream",
     "text": [
      "Enter a string:  Hey! my name is creysac!\n"
     ]
    },
    {
     "name": "stdout",
     "output_type": "stream",
     "text": [
      "The string contains special characters.\n"
     ]
    }
   ],
   "source": [
    "import string\n",
    "\n",
    "def contains_special_character(string):\n",
    "    for char in string:\n",
    "        if not char.isalnum():\n",
    "            return True\n",
    "    return False\n",
    "\n",
    "input_string = input(\"Enter a string: \")\n",
    "\n",
    "if contains_special_character(input_string):\n",
    "    print(\"The string contains special characters.\")\n",
    "else:\n",
    "    print(\"The string does not contain any special characters.\")\n"
   ]
  },
  {
   "cell_type": "code",
   "execution_count": null,
   "id": "276d5610-e84e-46dd-bb18-cdf11863647a",
   "metadata": {},
   "outputs": [],
   "source": []
  }
 ],
 "metadata": {
  "kernelspec": {
   "display_name": "Python 3 (ipykernel)",
   "language": "python",
   "name": "python3"
  },
  "language_info": {
   "codemirror_mode": {
    "name": "ipython",
    "version": 3
   },
   "file_extension": ".py",
   "mimetype": "text/x-python",
   "name": "python",
   "nbconvert_exporter": "python",
   "pygments_lexer": "ipython3",
   "version": "3.10.6"
  }
 },
 "nbformat": 4,
 "nbformat_minor": 5
}
