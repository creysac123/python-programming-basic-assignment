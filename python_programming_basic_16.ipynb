{
 "cells": [
  {
   "cell_type": "markdown",
   "id": "ff181297-49b2-4043-bb89-9664ed2ae50f",
   "metadata": {},
   "source": [
    "### Question1. \n",
    "Write a function that stutters a word as if someone is struggling to read it. The\n",
    "first two letters are repeated twice with an ellipsis ... and space after each, and then the\n",
    "word is pronounced with a question mark ?.\n",
    "\n",
    "Examples\n",
    "\n",
    "stutter(&quot;incredible&quot;) ➞ &quot;in... in... incredible?&quot;\n",
    "\n",
    "stutter(&quot;enthusiastic&quot;) ➞ &quot;en... en... enthusiastic?&quot;\n",
    "\n",
    "stutter(&quot;outstanding&quot;) ➞ &quot;ou... ou... outstanding?&quot;\n",
    "\n",
    "Hint :- Assume all input is in lower case and at least two characters long."
   ]
  },
  {
   "cell_type": "code",
   "execution_count": 2,
   "id": "39d3bb38-73ff-4a20-9ca2-4dbd1ab8a098",
   "metadata": {},
   "outputs": [
    {
     "name": "stdout",
     "output_type": "stream",
     "text": [
      "in... in... incredible?\n",
      "en... en... enthusiastic?\n",
      "ou... ou... outstanding?\n"
     ]
    }
   ],
   "source": [
    "def stutter(word):\n",
    "    stuttered_word = word[:2] + '... ' + word[:2] + '... ' + word + '?'\n",
    "    return stuttered_word\n",
    "\n",
    "print(stutter(\"incredible\"))     \n",
    "print(stutter(\"enthusiastic\"))    \n",
    "print(stutter(\"outstanding\"))    \n"
   ]
  },
  {
   "cell_type": "markdown",
   "id": "81583236-fb89-4c1c-a757-4c4bf2e9bb60",
   "metadata": {},
   "source": [
    "### Question 2.\n",
    "Create a function that takes an angle in radians and returns the corresponding\n",
    "angle in degrees rounded to one decimal place.\n",
    "\n",
    "Examples\n",
    "\n",
    "radians_to_degrees(1) ➞ 57.3\n",
    "\n",
    "radians_to_degrees(20) ➞ 1145.9\n",
    "\n",
    "radians_to_degrees(50) ➞ 2864.8"
   ]
  },
  {
   "cell_type": "code",
   "execution_count": 3,
   "id": "4cd953d4-a45d-473d-bce8-aad81c28de25",
   "metadata": {},
   "outputs": [
    {
     "name": "stdout",
     "output_type": "stream",
     "text": [
      "57.3\n",
      "1145.9\n",
      "2864.8\n"
     ]
    }
   ],
   "source": [
    "import math\n",
    "\n",
    "def radians_to_degrees(radians):\n",
    "    degrees = radians * (180 / math.pi)\n",
    "    rounded_degrees = round(degrees, 1)\n",
    "    return rounded_degrees\n",
    "\n",
    "print(radians_to_degrees(1))    \n",
    "print(radians_to_degrees(20))   \n",
    "print(radians_to_degrees(50))   \n"
   ]
  },
  {
   "cell_type": "markdown",
   "id": "b2b1e57e-c9e5-46cf-92f0-4247a61da822",
   "metadata": {},
   "source": [
    "### Question 3.\n",
    "In this challenge, establish if a given integer num is a Curzon number. If 1 plus\n",
    "2 elevated to num is exactly divisible by 1 plus 2 multiplied by num, then num is a Curzon\n",
    "number.\n",
    "Given a non-negative integer num, implement a function that returns True if num is a Curzon\n",
    "number, or False otherwise.\n",
    "\n",
    "Examples\n",
    "\n",
    "is_curzon(5) ➞ True\n",
    "\n",
    "2 ** 5 + 1 = 33\n",
    "\n",
    "2 * 5 + 1 = 11\n",
    "\n",
    "33 is a multiple of 11\n",
    "\n",
    "is_curzon(10) ➞ False\n",
    "\n",
    "2 ** 10 + 1 = 1025\n",
    "\n",
    "2 * 10 + 1 = 21\n",
    "\n",
    "1025 is not a multiple of 21\n",
    "\n",
    "is_curzon(14) ➞ True\n",
    "\n",
    "2 ** 14 + 1 = 16385\n",
    "\n",
    "2 * 14 + 1 = 29\n",
    "\n",
    "16385 is a multiple of 29"
   ]
  },
  {
   "cell_type": "code",
   "execution_count": 6,
   "id": "5a469d53-d3ec-47f1-a2c5-57e5d8f38592",
   "metadata": {},
   "outputs": [
    {
     "name": "stdout",
     "output_type": "stream",
     "text": [
      "True\n",
      "False\n",
      "True\n"
     ]
    }
   ],
   "source": [
    "def is_curzon(num):\n",
    "    numerator = 2 ** num + 1\n",
    "    denominator = 2 * num + 1\n",
    "    return numerator % denominator == 0\n",
    "    \n",
    "\n",
    "\n",
    "print(is_curzon(5))    \n",
    "print(is_curzon(10))   \n",
    "print(is_curzon(14))   \n"
   ]
  },
  {
   "cell_type": "markdown",
   "id": "58f5d68f-6870-4239-955c-779a9dc964b3",
   "metadata": {},
   "source": [
    "### Question 4.Given the side length x find the area of a hexagon.\n",
    "\n",
    "Examples\n",
    "\n",
    "area_of_hexagon(1) ➞ 2.6\n",
    "\n",
    "area_of_hexagon(2) ➞ 10.4\n",
    "\n",
    "area_of_hexagon(3) ➞ 23.4"
   ]
  },
  {
   "cell_type": "code",
   "execution_count": 10,
   "id": "11021e30-595f-4c38-8d2e-aca14aee98c3",
   "metadata": {},
   "outputs": [
    {
     "name": "stdout",
     "output_type": "stream",
     "text": [
      "Area of hexagon: 2.6\n"
     ]
    }
   ],
   "source": [
    "import math\n",
    "\n",
    "def calculate_hexagon_area(side_length):\n",
    "    area = (3 * math.sqrt(3) * side_length ** 2) / 2\n",
    "    return round(area,1)\n",
    "\n",
    "# Example usage\n",
    "side_length = 1\n",
    "hexagon_area = calculate_hexagon_area(side_length)\n",
    "print(\"Area of hexagon:\", hexagon_area)\n"
   ]
  },
  {
   "cell_type": "markdown",
   "id": "669a294b-1be1-455c-9c49-acf6393891c7",
   "metadata": {},
   "source": [
    "### Question 5.\n",
    "Create a function that returns a base-2 (binary) representation of a base-10\n",
    "(decimal) string number. To convert is simple: ((2) means base-2 and (10) means base-10)\n",
    "010101001(2) = 1 + 8 + 32 + 128.\n",
    "\n",
    "Going from right to left, the value of the most right bit is 1, now from that every bit to the left\n",
    "will be x2 the value, value of an 8 bit binary numbers are (256, 128, 64, 32, 16, 8, 4, 2, 1).\n",
    "\n",
    "Examples\n",
    "\n",
    "binary(1) ➞ &quot;1&quot;\n",
    "\n",
    "1*1 = 1\n",
    "\n",
    "binary(5) ➞ &quot;101&quot;\n",
    "\n",
    "1*1 + 1*4 = 5\n",
    "\n",
    "binary(10) ➞ &quot;1010&quot;\n",
    "\n",
    "1*2 + 1*8 = 10"
   ]
  },
  {
   "cell_type": "code",
   "execution_count": 12,
   "id": "47663c6e-6c83-4f2d-b34f-5f4bf176e936",
   "metadata": {},
   "outputs": [
    {
     "name": "stdout",
     "output_type": "stream",
     "text": [
      "1\n",
      "101\n",
      "1010\n"
     ]
    }
   ],
   "source": [
    "def decimal_to_binary(decimal):\n",
    "    if decimal == 0:\n",
    "        return \"0\"\n",
    "    \n",
    "    binary = \"\"\n",
    "    while decimal > 0:\n",
    "        binary = str(decimal % 2) + binary\n",
    "        decimal //= 2\n",
    "    \n",
    "    return binary\n",
    "\n",
    "print(decimal_to_binary(1))     \n",
    "print(decimal_to_binary(5))     \n",
    "print(decimal_to_binary(10))    \n"
   ]
  },
  {
   "cell_type": "code",
   "execution_count": null,
   "id": "a72d28be-f7ca-459f-9ee8-98fa945ef5a4",
   "metadata": {},
   "outputs": [],
   "source": []
  }
 ],
 "metadata": {
  "kernelspec": {
   "display_name": "Python 3 (ipykernel)",
   "language": "python",
   "name": "python3"
  },
  "language_info": {
   "codemirror_mode": {
    "name": "ipython",
    "version": 3
   },
   "file_extension": ".py",
   "mimetype": "text/x-python",
   "name": "python",
   "nbconvert_exporter": "python",
   "pygments_lexer": "ipython3",
   "version": "3.10.6"
  }
 },
 "nbformat": 4,
 "nbformat_minor": 5
}
