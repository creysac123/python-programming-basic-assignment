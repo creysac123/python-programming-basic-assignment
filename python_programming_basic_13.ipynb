{
 "cells": [
  {
   "cell_type": "markdown",
   "id": "141f98bb-1ace-48c6-8139-cbae827b8a3a",
   "metadata": {},
   "source": [
    "Question 1:\n",
    "Write a program that calculates and prints the value according to the given formula:\n",
    "\n",
    "Q = Square root of [(2 * C * D)/H]\n",
    "\n",
    "Following are the fixed values of C and H:\n",
    "\n",
    "C is 50. H is 30.\n",
    "\n",
    "D is the variable whose values should be input to your program in a comma-separated\n",
    "sequence.\n",
    "\n",
    "Example\n",
    "\n",
    "Let us assume the following comma separated input sequence is given to the program:\n",
    "\n",
    "100,150,180\n",
    "\n",
    "The output of the program should be:\n",
    "\n",
    "18,22,24"
   ]
  },
  {
   "cell_type": "code",
   "execution_count": 7,
   "id": "2f165de9-30f9-4aaa-abf2-4b7530a78349",
   "metadata": {},
   "outputs": [
    {
     "name": "stdin",
     "output_type": "stream",
     "text": [
      "Enter the comma-separated sequence of values:  100,150,180\n"
     ]
    },
    {
     "name": "stdout",
     "output_type": "stream",
     "text": [
      "The calculated values are: 18,22,24\n"
     ]
    }
   ],
   "source": [
    "import math\n",
    "\n",
    "def calculate_value(sequence):\n",
    "    result = []\n",
    "    C = 50\n",
    "    H = 30\n",
    "\n",
    "    values = sequence.split(',')\n",
    "\n",
    "    for value in values:\n",
    "        D = int(value)\n",
    "        Q = math.sqrt((2 * C * D) / H)\n",
    "        Q = int(round(Q))\n",
    "        result.append(str(Q))\n",
    "\n",
    "    result_string = ','.join(result)\n",
    "    return result_string\n",
    "\n",
    "sequence_input = input(\"Enter the comma-separated sequence of values: \")\n",
    "output = calculate_value(sequence_input)\n",
    "print(\"The calculated values are:\", output)\n"
   ]
  },
  {
   "cell_type": "markdown",
   "id": "56ba30b3-edf7-4fd8-841a-d38219b35273",
   "metadata": {},
   "source": [
    "Question 2:\n",
    "\n",
    "Write a program which takes 2 digits, X,Y as input and generates a 2-dimensional array. The\n",
    "element value in the i-th row and j-th column of the array should be i*j.\n",
    "\n",
    "Note: i=0,1.., X-1; j=0,1,¡Y-1.\n",
    "\n",
    "Example\n",
    "\n",
    "Suppose the following inputs are given to the program:\n",
    "\n",
    "3,5\n",
    "\n",
    "Then, the output of the program should be:\n",
    "\n",
    "[[0, 0, 0, 0, 0], [0, 1, 2, 3, 4], [0, 2, 4, 6, 8]]"
   ]
  },
  {
   "cell_type": "code",
   "execution_count": 13,
   "id": "6f42190d-1b9d-4b1b-80df-589a83af3abb",
   "metadata": {},
   "outputs": [
    {
     "name": "stdin",
     "output_type": "stream",
     "text": [
      "Enter the value for X:  3\n",
      "Enter the value for Y:  5\n"
     ]
    },
    {
     "name": "stdout",
     "output_type": "stream",
     "text": [
      "The generated array is:\n",
      "[0, 0, 0, 0, 0]\n",
      "[0, 1, 2, 3, 4]\n",
      "[0, 2, 4, 6, 8]\n"
     ]
    }
   ],
   "source": [
    "def generate_array(X, Y):\n",
    "    array = [[0 for j in range(Y)] for i in range(X)]\n",
    "\n",
    "    for i in range(X):\n",
    "        for j in range(Y):\n",
    "            array[i][j] = i * j\n",
    "\n",
    "    return array\n",
    "\n",
    "X = int(input(\"Enter the value for X: \"))\n",
    "Y = int(input(\"Enter the value for Y: \"))\n",
    "result = generate_array(X, Y)\n",
    "print(\"The generated array is:\")\n",
    "for row in result:\n",
    "    print(row)\n"
   ]
  },
  {
   "cell_type": "markdown",
   "id": "c92dead0-839f-40ab-bdd6-059ef7343f54",
   "metadata": {},
   "source": [
    "Question 3:\n",
    "\n",
    "Write a program that accepts a comma separated sequence of words as input and prints the\n",
    "words in a comma-separated sequence after sorting them alphabetically.\n",
    "\n",
    "Suppose the following input is supplied to the program:\n",
    "\n",
    "without,hello,bag,world\n",
    "\n",
    "Then, the output should be:\n",
    "\n",
    "bag,hello,without,world"
   ]
  },
  {
   "cell_type": "code",
   "execution_count": 14,
   "id": "1740b851-e684-4072-a9d6-3a8d876974c6",
   "metadata": {},
   "outputs": [
    {
     "name": "stdin",
     "output_type": "stream",
     "text": [
      "Enter a comma-separated sequence of words:  without,hello,bag,world\n"
     ]
    },
    {
     "name": "stdout",
     "output_type": "stream",
     "text": [
      "The sorted sequence of words is: bag,hello,without,world\n"
     ]
    }
   ],
   "source": [
    "def sort_words(sequence):\n",
    "    words = sequence.split(',')\n",
    "\n",
    "    sorted_words = sorted(words)\n",
    "\n",
    "    sorted_sequence = ','.join(sorted_words)\n",
    "\n",
    "    return sorted_sequence\n",
    "\n",
    "sequence_input = input(\"Enter a comma-separated sequence of words: \")\n",
    "sorted_output = sort_words(sequence_input)\n",
    "print(\"The sorted sequence of words is:\", sorted_output)"
   ]
  },
  {
   "cell_type": "markdown",
   "id": "caa156c3-08c3-4736-b846-97f63c2de77f",
   "metadata": {},
   "source": [
    "Question 4:\n",
    "    \n",
    "Write a program that accepts a sequence of whitespace separated words as input and prints\n",
    "the words after removing all duplicate words and sorting them alphanumerically.\n",
    "\n",
    "Suppose the following input is supplied to the program:\n",
    "    \n",
    "hello world and practice makes perfect and hello world again\n",
    "Then, the output should be:\n",
    "    \n",
    "again and hello makes perfect practice world"
   ]
  },
  {
   "cell_type": "code",
   "execution_count": 15,
   "id": "b04f7833-f736-4315-acac-89063b67559b",
   "metadata": {},
   "outputs": [
    {
     "name": "stdin",
     "output_type": "stream",
     "text": [
      "Enter a whitespace-separated sequence of words:  hello world and practice makes perfect and hello world again\n"
     ]
    },
    {
     "name": "stdout",
     "output_type": "stream",
     "text": [
      "The words after removing duplicates and sorting are: again and hello makes perfect practice world\n"
     ]
    }
   ],
   "source": [
    "def remove_duplicates_and_sort(sequence):\n",
    "    words = sequence.split()\n",
    "\n",
    "    unique_words = set(words)\n",
    "\n",
    "    sorted_words = sorted(unique_words)\n",
    "\n",
    "    sorted_sequence = ' '.join(sorted_words)\n",
    "\n",
    "    return sorted_sequence\n",
    "\n",
    "sequence_input = input(\"Enter a whitespace-separated sequence of words: \")\n",
    "sorted_output = remove_duplicates_and_sort(sequence_input)\n",
    "print(\"The words after removing duplicates and sorting are:\", sorted_output)\n"
   ]
  },
  {
   "cell_type": "markdown",
   "id": "89475e14-62b1-4706-9a05-6f07f014a474",
   "metadata": {},
   "source": [
    "Question 5:\n",
    "    \n",
    "Write a program that accepts a sentence and calculate the number of letters and digits.\n",
    "\n",
    "Suppose the following input is supplied to the program:\n",
    "    \n",
    "hello world! 123\n",
    "\n",
    "Then, the output should be:\n",
    "    \n",
    "LETTERS 10\n",
    "\n",
    "DIGITS 3"
   ]
  },
  {
   "cell_type": "code",
   "execution_count": 16,
   "id": "0acda630-0fbf-4fb6-b7c8-196106984bd5",
   "metadata": {},
   "outputs": [
    {
     "name": "stdin",
     "output_type": "stream",
     "text": [
      "Enter a sentence:  hello world! 123\n"
     ]
    },
    {
     "name": "stdout",
     "output_type": "stream",
     "text": [
      "LETTERS 10\n",
      "DIGITS 3\n"
     ]
    }
   ],
   "source": [
    "def count_letters_and_digits(sentence):\n",
    "    letters = 0\n",
    "    digits = 0\n",
    "\n",
    "    for char in sentence:\n",
    "        if char.isalpha():\n",
    "            letters += 1\n",
    "        elif char.isdigit():\n",
    "            digits += 1\n",
    "\n",
    "    return letters, digits\n",
    "\n",
    "sentence_input = input(\"Enter a sentence: \")\n",
    "letter_count, digit_count = count_letters_and_digits(sentence_input)\n",
    "print(\"LETTERS\", letter_count)\n",
    "print(\"DIGITS\", digit_count)\n"
   ]
  },
  {
   "cell_type": "markdown",
   "id": "33d7a549-5c12-4dc0-ba80-2c073bf4e5ad",
   "metadata": {},
   "source": [
    "Question 6:\n",
    "    \n",
    "A website requires the users to input username and password to register. Write a program to\n",
    "check the validity of password input by users.\n",
    "\n",
    "Following are the criteria for checking the password:\n",
    "    \n",
    "1. At least 1 letter between [a-z]\n",
    "\n",
    "2. At least 1 number between [0-9]\n",
    "\n",
    "1. At least 1 letter between [A-Z]\n",
    "\n",
    "3. At least 1 character from [$#@]\n",
    "                              \n",
    "4. Minimum length of transaction password: 6\n",
    "                              \n",
    "5. Maximum length of transaction password: 12\n",
    "                              \n",
    "Your program should accept a sequence of comma separated passwords and will check them\n",
    "according to the above criteria. Passwords that match the criteria are to be printed, each\n",
    "separated by a comma.\n",
    "                              \n",
    "Example\n",
    "If the following passwords are given as input to the program:\n",
    "                              \n",
    "ABd1234@1,a F1#,2w3E*,2We3345\n",
    "                              \n",
    "Then, the output of the program should be:\n",
    "                              \n",
    "ABd1234@1"
   ]
  },
  {
   "cell_type": "code",
   "execution_count": 17,
   "id": "2563bda8-3e4f-48ba-94f7-3db6f8608e54",
   "metadata": {},
   "outputs": [
    {
     "name": "stdin",
     "output_type": "stream",
     "text": [
      "Enter comma-separated passwords:  ABd1234@1,a F1#,2w3E*,2We3345\n"
     ]
    },
    {
     "name": "stdout",
     "output_type": "stream",
     "text": [
      "Valid passwords: ABd1234@1\n"
     ]
    }
   ],
   "source": [
    "import re\n",
    "\n",
    "def check_password_validity(password):\n",
    "    # Criteria patterns\n",
    "    patterns = [\n",
    "        r\"(?=.*[a-z])\",     \n",
    "        r\"(?=.*[A-Z])\",        \n",
    "        r\"(?=.*\\d)\",            \n",
    "        r\"(?=.*[$#@])\",         \n",
    "        r\"(?!.*\\s)\",            \n",
    "        r\".{6,12}\"              \n",
    "    ]\n",
    "\n",
    "    pattern = ''.join(patterns)\n",
    "\n",
    "    if re.fullmatch(pattern, password):\n",
    "        return True\n",
    "    else:\n",
    "        return False\n",
    "\n",
    "passwords_input = input(\"Enter comma-separated passwords: \")\n",
    "passwords = passwords_input.split(',')\n",
    "\n",
    "valid_passwords = []\n",
    "for password in passwords:\n",
    "    if check_password_validity(password):\n",
    "        valid_passwords.append(password)\n",
    "\n",
    "valid_passwords_output = ','.join(valid_passwords)\n",
    "print(\"Valid passwords:\", valid_passwords_output)\n"
   ]
  },
  {
   "cell_type": "code",
   "execution_count": null,
   "id": "8b10e29a-d5ed-406f-a584-ed3b3415d62d",
   "metadata": {},
   "outputs": [],
   "source": []
  }
 ],
 "metadata": {
  "kernelspec": {
   "display_name": "Python 3 (ipykernel)",
   "language": "python",
   "name": "python3"
  },
  "language_info": {
   "codemirror_mode": {
    "name": "ipython",
    "version": 3
   },
   "file_extension": ".py",
   "mimetype": "text/x-python",
   "name": "python",
   "nbconvert_exporter": "python",
   "pygments_lexer": "ipython3",
   "version": "3.10.6"
  }
 },
 "nbformat": 4,
 "nbformat_minor": 5
}
