{
 "cells": [
  {
   "cell_type": "markdown",
   "id": "fec316ea-bd46-482e-8f4b-028b2865f210",
   "metadata": {},
   "source": [
    "1. Write a Python Program to Find the Factorial of a Number?"
   ]
  },
  {
   "cell_type": "code",
   "execution_count": 1,
   "id": "e483816b-6ca1-485f-ba75-59d80f1c96bc",
   "metadata": {},
   "outputs": [
    {
     "name": "stdin",
     "output_type": "stream",
     "text": [
      "Enter a number:  5\n"
     ]
    },
    {
     "name": "stdout",
     "output_type": "stream",
     "text": [
      "The factorial of 5 is 120\n"
     ]
    }
   ],
   "source": [
    "def factorial(number):\n",
    "    if number < 0:\n",
    "        return \"Factorial is not defined for negative numbers.\"\n",
    "    elif number == 0:\n",
    "        return 1\n",
    "    else:\n",
    "        result = 1\n",
    "        for i in range(1, number + 1):\n",
    "            result *= i\n",
    "        return result\n",
    "\n",
    "# Prompt the user for the number\n",
    "number = int(input(\"Enter a number: \"))\n",
    "\n",
    "# Calculate the factorial\n",
    "fact = factorial(number)\n",
    "\n",
    "# Display the result\n",
    "print(\"The factorial of\", number, \"is\", fact)\n"
   ]
  },
  {
   "cell_type": "markdown",
   "id": "87a005eb-59cd-4693-a22d-531b89c26f35",
   "metadata": {},
   "source": [
    "2. Write a Python Program to Display the multiplication Table?"
   ]
  },
  {
   "cell_type": "code",
   "execution_count": 2,
   "id": "5c8247e7-b746-4b64-bb32-881a4336eb5a",
   "metadata": {},
   "outputs": [
    {
     "name": "stdin",
     "output_type": "stream",
     "text": [
      "Enter a number:  6\n"
     ]
    },
    {
     "name": "stdout",
     "output_type": "stream",
     "text": [
      "6 x 1 = 6\n",
      "6 x 2 = 12\n",
      "6 x 3 = 18\n",
      "6 x 4 = 24\n",
      "6 x 5 = 30\n",
      "6 x 6 = 36\n",
      "6 x 7 = 42\n",
      "6 x 8 = 48\n",
      "6 x 9 = 54\n",
      "6 x 10 = 60\n"
     ]
    }
   ],
   "source": [
    "num = int(input(\"Enter a number: \"))\n",
    "\n",
    "for i in range(1, 11):\n",
    "    print(\"{} x {} = {}\".format(num, i, num*i))"
   ]
  },
  {
   "cell_type": "markdown",
   "id": "77c4b54c-5b19-4a5d-9fa1-fc2f8461caa0",
   "metadata": {},
   "source": [
    "3. Write a Python Program to Print the Fibonacci sequence?"
   ]
  },
  {
   "cell_type": "code",
   "execution_count": 1,
   "id": "fde1269e-abad-4e64-bb59-d20ec212f4c7",
   "metadata": {},
   "outputs": [
    {
     "name": "stdin",
     "output_type": "stream",
     "text": [
      "Enter the number of terms in the Fibonacci sequence:  6\n"
     ]
    },
    {
     "name": "stdout",
     "output_type": "stream",
     "text": [
      "Fibonacci sequence:\n",
      "[0, 1, 1, 2, 3, 5]\n"
     ]
    }
   ],
   "source": [
    "def fibonacci(n):\n",
    "    fib_sequence = [0, 1]\n",
    "\n",
    "    while len(fib_sequence) < n:\n",
    "        next_number = fib_sequence[-1] + fib_sequence[-2]\n",
    "        fib_sequence.append(next_number)\n",
    "\n",
    "    return fib_sequence\n",
    "\n",
    "num_terms = int(input(\"Enter the number of terms in the Fibonacci sequence: \"))\n",
    "\n",
    "fib_seq = fibonacci(num_terms)\n",
    "print(\"Fibonacci sequence:\")\n",
    "print(fib_seq)\n"
   ]
  },
  {
   "cell_type": "markdown",
   "id": "80da4977-69c4-4223-8530-b1e8624087be",
   "metadata": {},
   "source": [
    "4. Write a Python Program to Check Armstrong Number?"
   ]
  },
  {
   "cell_type": "code",
   "execution_count": 3,
   "id": "43faa5b4-30dd-4856-861e-b8ab557b4600",
   "metadata": {},
   "outputs": [
    {
     "name": "stdin",
     "output_type": "stream",
     "text": [
      "Enter a number:  371\n"
     ]
    },
    {
     "name": "stdout",
     "output_type": "stream",
     "text": [
      "371 is an Armstrong number.\n"
     ]
    }
   ],
   "source": [
    "def is_armstrong_number(num):\n",
    "    str_num = str(num)\n",
    "    \n",
    "    num_digits = len(str_num)\n",
    "    \n",
    "    armstrong_sum = 0\n",
    "    \n",
    "    for digit in str_num:\n",
    "        armstrong_sum += int(digit) ** num_digits\n",
    "    \n",
    "    if armstrong_sum == num:\n",
    "        return True\n",
    "    else:\n",
    "        return False\n",
    "\n",
    "number = int(input(\"Enter a number: \"))\n",
    "\n",
    "if is_armstrong_number(number):\n",
    "    print(number, \"is an Armstrong number.\")\n",
    "else:\n",
    "    print(number, \"is not an Armstrong number.\")\n"
   ]
  },
  {
   "cell_type": "markdown",
   "id": "f9d93daf-205f-43d8-b04e-43a6106804cc",
   "metadata": {},
   "source": [
    "5. Write a Python Program to Find Armstrong Number in an Interval?"
   ]
  },
  {
   "cell_type": "code",
   "execution_count": 4,
   "id": "3777d477-c535-49ba-9fc6-49c8709df58a",
   "metadata": {},
   "outputs": [
    {
     "name": "stdin",
     "output_type": "stream",
     "text": [
      "Enter the lower value of range:  200\n",
      "Enter the higher value of range:  500\n"
     ]
    },
    {
     "name": "stdout",
     "output_type": "stream",
     "text": [
      "\n",
      "From 200 to 500 following are the Armstrong Number:\n",
      "370 371 407 "
     ]
    }
   ],
   "source": [
    "low = int(input(\"Enter the lower value of range: \"))\n",
    "high = int(input(\"Enter the higher value of range: \"))\n",
    "\n",
    "print(\"\\nFrom {} to {} following are the Armstrong Number:\".format(low, high), end='\\n')\n",
    "for i in range(low, high+1):\n",
    "    \n",
    "    if(is_armstrong_number(i)):\n",
    "        print(i, end = ' ')"
   ]
  },
  {
   "cell_type": "markdown",
   "id": "638ee9c0-9eba-4609-a04b-351e10e0cb76",
   "metadata": {},
   "source": [
    "6. Write a Python Program to Find the Sum of Natural Numbers?"
   ]
  },
  {
   "cell_type": "code",
   "execution_count": 5,
   "id": "07ee065a-301e-43b3-8e31-0dd4baec6a0e",
   "metadata": {},
   "outputs": [
    {
     "name": "stdin",
     "output_type": "stream",
     "text": [
      "Enter a positive number:  40\n"
     ]
    },
    {
     "name": "stdout",
     "output_type": "stream",
     "text": [
      "Sum of 40 natural number is 820\n"
     ]
    }
   ],
   "source": [
    "num = int(input(\"Enter a positive number: \"))\n",
    "\n",
    "total_sum = 0\n",
    "for i in range(1, num+1):\n",
    "    total_sum += i\n",
    "    \n",
    "print(\"Sum of {} natural number is {}\".format(num, total_sum))"
   ]
  },
  {
   "cell_type": "code",
   "execution_count": null,
   "id": "37081e31-5d01-484c-9bce-2a0a5a964e21",
   "metadata": {},
   "outputs": [],
   "source": []
  }
 ],
 "metadata": {
  "kernelspec": {
   "display_name": "Python 3 (ipykernel)",
   "language": "python",
   "name": "python3"
  },
  "language_info": {
   "codemirror_mode": {
    "name": "ipython",
    "version": 3
   },
   "file_extension": ".py",
   "mimetype": "text/x-python",
   "name": "python",
   "nbconvert_exporter": "python",
   "pygments_lexer": "ipython3",
   "version": "3.10.6"
  }
 },
 "nbformat": 4,
 "nbformat_minor": 5
}
