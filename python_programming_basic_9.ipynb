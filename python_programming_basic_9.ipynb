{
 "cells": [
  {
   "cell_type": "markdown",
   "id": "a596cdcf-9bda-478f-a8ef-454e8509e9d6",
   "metadata": {},
   "source": [
    "1. Write a Python program to check if the given number is a Disarium Number?"
   ]
  },
  {
   "cell_type": "code",
   "execution_count": 1,
   "id": "7888ce8d-ab01-4ee4-91a8-4c87754ae83e",
   "metadata": {},
   "outputs": [
    {
     "name": "stdin",
     "output_type": "stream",
     "text": [
      " 135\n"
     ]
    },
    {
     "name": "stdout",
     "output_type": "stream",
     "text": [
      "It is a disarium number\n"
     ]
    }
   ],
   "source": [
    "a= int(input())\n",
    "\n",
    "b=str(a)\n",
    "total=0\n",
    "for i in range(len(b)):\n",
    "    n=int(b[i])\n",
    "    n=pow(n,i+1)\n",
    "    total=total+n\n",
    "    \n",
    "if total==a:\n",
    "    print(\"It is a disarium number\")\n",
    "else:\n",
    "    print(\"It is not a disarium number\")"
   ]
  },
  {
   "cell_type": "markdown",
   "id": "8466e804-c987-4aec-a3da-cec6ce30ecff",
   "metadata": {},
   "source": [
    "2. Write a Python program to print all disarium numbers between 1 to 100?"
   ]
  },
  {
   "cell_type": "code",
   "execution_count": 2,
   "id": "f7ca9e55-30ae-43df-a30e-f89c7d3b9edc",
   "metadata": {},
   "outputs": [],
   "source": [
    "def disarium(a):\n",
    "    b=str(a)\n",
    "    total=0\n",
    "    for i in range(len(b)):\n",
    "        n=int(b[i])\n",
    "        n=pow(n,i+1)\n",
    "        total=total+n\n",
    "\n",
    "    if total==a:\n",
    "        return True\n",
    "    else:\n",
    "        return False"
   ]
  },
  {
   "cell_type": "code",
   "execution_count": 4,
   "id": "1010b936-7544-4397-a5c6-bda8c41d7f01",
   "metadata": {},
   "outputs": [
    {
     "name": "stdout",
     "output_type": "stream",
     "text": [
      "1 2 3 4 5 6 7 8 9 89 "
     ]
    }
   ],
   "source": [
    "for i in range(1,101):\n",
    "    if disarium(i):\n",
    "        print(i,end=\" \")"
   ]
  },
  {
   "cell_type": "markdown",
   "id": "1afc72ce-1361-4eec-bbc3-852ed73401bb",
   "metadata": {},
   "source": [
    "3. Write a Python program to check if the given number is Happy Number?"
   ]
  },
  {
   "cell_type": "code",
   "execution_count": 1,
   "id": "483e06a4-e724-4965-8e39-3a548ae09bff",
   "metadata": {},
   "outputs": [
    {
     "name": "stdin",
     "output_type": "stream",
     "text": [
      "Enter a number:  19\n"
     ]
    },
    {
     "name": "stdout",
     "output_type": "stream",
     "text": [
      "19 is a happy number.\n"
     ]
    }
   ],
   "source": [
    "def is_happy_number(number):\n",
    "    while number != 1:\n",
    "        number = sum(int(digit) ** 2 for digit in str(number))\n",
    "        if number == 4:\n",
    "            return False\n",
    "    return True\n",
    "\n",
    "number = int(input(\"Enter a number: \"))\n",
    "\n",
    "if is_happy_number(number):\n",
    "    print(number, \"is a happy number.\")\n",
    "else:\n",
    "    print(number, \"is not a happy number.\")\n"
   ]
  },
  {
   "cell_type": "markdown",
   "id": "8a78556d-80ba-4409-b310-8b8273d75dc9",
   "metadata": {},
   "source": [
    "4. Write a Python program to print all happy numbers between 1 and 100?"
   ]
  },
  {
   "cell_type": "code",
   "execution_count": 3,
   "id": "e265b61e-04d1-4523-a2c5-d6f7a96e8701",
   "metadata": {},
   "outputs": [
    {
     "name": "stdout",
     "output_type": "stream",
     "text": [
      "Happy numbers from 1 to 100:\n",
      "1 7 10 13 19 23 28 31 32 44 49 68 70 79 82 86 91 94 97 100 "
     ]
    }
   ],
   "source": [
    "print(\"Happy numbers from 1 to 100:\")\n",
    "for i in range(1, 101):\n",
    "    if is_happy_number(i):\n",
    "        print(i, end=\" \")"
   ]
  },
  {
   "cell_type": "markdown",
   "id": "c19aa535-430c-43af-987a-b3d574c22fd5",
   "metadata": {},
   "source": [
    "5. Write a Python program to determine whether the given number is a Harshad Number?"
   ]
  },
  {
   "cell_type": "code",
   "execution_count": 6,
   "id": "33dad8a7-07b8-44b7-a25d-8c9fe056365e",
   "metadata": {},
   "outputs": [
    {
     "name": "stdin",
     "output_type": "stream",
     "text": [
      "Enter a number:  156\n"
     ]
    },
    {
     "name": "stdout",
     "output_type": "stream",
     "text": [
      "156 is a Harshad number.\n"
     ]
    }
   ],
   "source": [
    "def is_harshad_number(number):\n",
    "    digit_sum = sum(int(digit) for digit in str(number))\n",
    "    return number % digit_sum == 0\n",
    "\n",
    "number = int(input(\"Enter a number: \"))\n",
    "\n",
    "if is_harshad_number(number):\n",
    "    print(number, \"is a Harshad number.\")\n",
    "else:\n",
    "    print(number, \"is not a Harshad number.\")\n"
   ]
  },
  {
   "cell_type": "markdown",
   "id": "62d7be7d-ce20-401b-b9a9-fab9f2ea1191",
   "metadata": {},
   "source": [
    "6. Write a Python program to print all pronic numbers between 1 and 100?"
   ]
  },
  {
   "cell_type": "code",
   "execution_count": 10,
   "id": "5d6700f8-f014-45af-b0f3-e4022fc49fd9",
   "metadata": {},
   "outputs": [
    {
     "name": "stdout",
     "output_type": "stream",
     "text": [
      "0 2 6 12 20 30 42 56 72 90 "
     ]
    }
   ],
   "source": [
    "i = 0\n",
    "while True:\n",
    "    pronicNum = i*(i+1)\n",
    "    i = i + 1\n",
    "    if pronicNum > 100:\n",
    "        break\n",
    "    print(pronicNum, end = ' ')\n",
    "    "
   ]
  },
  {
   "cell_type": "code",
   "execution_count": null,
   "id": "cb4c0fc3-a624-4d2b-8868-8934934f54cc",
   "metadata": {},
   "outputs": [],
   "source": []
  }
 ],
 "metadata": {
  "kernelspec": {
   "display_name": "Python 3 (ipykernel)",
   "language": "python",
   "name": "python3"
  },
  "language_info": {
   "codemirror_mode": {
    "name": "ipython",
    "version": 3
   },
   "file_extension": ".py",
   "mimetype": "text/x-python",
   "name": "python",
   "nbconvert_exporter": "python",
   "pygments_lexer": "ipython3",
   "version": "3.10.6"
  }
 },
 "nbformat": 4,
 "nbformat_minor": 5
}
