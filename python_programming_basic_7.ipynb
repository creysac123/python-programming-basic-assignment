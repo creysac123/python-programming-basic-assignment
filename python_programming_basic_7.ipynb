{
 "cells": [
  {
   "cell_type": "markdown",
   "id": "a913dc97-d854-4b6c-9864-f9508186ced4",
   "metadata": {},
   "source": [
    "1. Write a Python Program to find sum of array?"
   ]
  },
  {
   "cell_type": "code",
   "execution_count": 6,
   "id": "fac503d1-67e3-432c-b410-0c00571c6965",
   "metadata": {},
   "outputs": [
    {
     "name": "stdin",
     "output_type": "stream",
     "text": [
      "Enter the Array:  1,2,3\n"
     ]
    },
    {
     "name": "stdout",
     "output_type": "stream",
     "text": [
      "The sum of (1, 2, 3) is 6\n"
     ]
    }
   ],
   "source": [
    "def arr():\n",
    "    in_arr = eval(input(\"Enter the Array: \"))\n",
    "    print(f'The sum of {in_arr} is {sum(in_arr)}')\n",
    "\n",
    "arr()"
   ]
  },
  {
   "cell_type": "markdown",
   "id": "f7d69a22-5d8e-47e5-81be-f31ff2dcd567",
   "metadata": {},
   "source": [
    "2. Write a Python Program to find largest element in an array?"
   ]
  },
  {
   "cell_type": "code",
   "execution_count": 8,
   "id": "f4915561-0b72-4513-a166-45e11d96e7f4",
   "metadata": {},
   "outputs": [
    {
     "name": "stdin",
     "output_type": "stream",
     "text": [
      "Enter the array elements:  4,5,6,7,8\n"
     ]
    },
    {
     "name": "stdout",
     "output_type": "stream",
     "text": [
      "The largest element in the array is: 8\n"
     ]
    }
   ],
   "source": [
    "numbers = eval(input(\"Enter the array elements: \"))\n",
    "numbers = [int(num) for num in numbers]\n",
    "\n",
    "# Finding the largest element\n",
    "largest_element = max(numbers)\n",
    "\n",
    "# Displaying the result\n",
    "print(\"The largest element in the array is:\", largest_element)"
   ]
  },
  {
   "cell_type": "markdown",
   "id": "eb60bce1-024b-48a6-aa91-5bc21fd006b7",
   "metadata": {},
   "source": [
    "3. Write a Python Program for array rotation?"
   ]
  },
  {
   "cell_type": "code",
   "execution_count": 17,
   "id": "90d8f017-bf39-4e85-810a-a15695ddc8c0",
   "metadata": {},
   "outputs": [
    {
     "name": "stdin",
     "output_type": "stream",
     "text": [
      "Enter the array elements:  3,4,5\n"
     ]
    },
    {
     "name": "stdout",
     "output_type": "stream",
     "text": [
      "[5, 4, 3]\n",
      "[5, 4, 3]\n",
      "[5, 4, 3]\n"
     ]
    }
   ],
   "source": [
    "numbers = eval(input(\"Enter the array elements: \"))\n",
    "numbers = [int(num) for num in numbers]\n",
    "\n",
    "rotated = reversed(numbers)\n",
    "print(list(rotated))\n",
    "print(sorted(numbers,reverse=True))\n",
    "print(numbers[::-1])"
   ]
  },
  {
   "cell_type": "markdown",
   "id": "e1eac19a-7288-41da-95f4-9669c4a67f74",
   "metadata": {},
   "source": [
    "\n",
    "4. Write a Python Program to Split the array and add the first part to the end?"
   ]
  },
  {
   "cell_type": "code",
   "execution_count": 28,
   "id": "59241f75-0f12-4c5d-a739-135545aa22b1",
   "metadata": {},
   "outputs": [
    {
     "name": "stdout",
     "output_type": "stream",
     "text": [
      "[1, 2, 3, 4, 5, 6, 7, 8, 9, 10]\n",
      "[2, 3, 4, 5, 6, 7, 8, 9, 10, 1]\n"
     ]
    }
   ],
   "source": [
    "l=list(range(1,11))\n",
    "print(l)\n",
    "m=l.pop(0)\n",
    "l.append(m)\n",
    "print(l)"
   ]
  },
  {
   "cell_type": "markdown",
   "id": "5ad3a612-9b08-43ac-87ad-03a7e7eefa64",
   "metadata": {},
   "source": [
    "\n",
    "5. Write a Python Program to check if given array is Monotonic?"
   ]
  },
  {
   "cell_type": "code",
   "execution_count": 31,
   "id": "4755d8f9-9668-4de3-8c06-cdeea7f39fc1",
   "metadata": {},
   "outputs": [
    {
     "name": "stdin",
     "output_type": "stream",
     "text": [
      "Enter the array elements:  2,5,3,6,5,8\n"
     ]
    },
    {
     "name": "stdout",
     "output_type": "stream",
     "text": [
      "The given array is not monotonic.\n"
     ]
    }
   ],
   "source": [
    "def is_monotonic(arr):\n",
    "    increasing = decreasing = True\n",
    "    \n",
    "    for i in range(1, len(arr)):\n",
    "        if arr[i] > arr[i - 1]:\n",
    "            increasing = False\n",
    "            break\n",
    "\n",
    "    for i in range(1, len(arr)):\n",
    "        if arr[i] < arr[i - 1]:\n",
    "            decreasing = False\n",
    "            break\n",
    "\n",
    "    return increasing or decreasing\n",
    "\n",
    "numbers = eval(input(\"Enter the array elements: \"))\n",
    "numbers = [int(num) for num in numbers]\n",
    "\n",
    "is_monotonic_array = is_monotonic(numbers)\n",
    "\n",
    "if is_monotonic_array:\n",
    "    print(\"The given array is monotonic.\")\n",
    "else:\n",
    "    print(\"The given array is not monotonic.\")"
   ]
  },
  {
   "cell_type": "code",
   "execution_count": null,
   "id": "1db5473b-6fa9-480b-b1c8-4134a79c706d",
   "metadata": {},
   "outputs": [],
   "source": []
  }
 ],
 "metadata": {
  "kernelspec": {
   "display_name": "Python 3 (ipykernel)",
   "language": "python",
   "name": "python3"
  },
  "language_info": {
   "codemirror_mode": {
    "name": "ipython",
    "version": 3
   },
   "file_extension": ".py",
   "mimetype": "text/x-python",
   "name": "python",
   "nbconvert_exporter": "python",
   "pygments_lexer": "ipython3",
   "version": "3.10.6"
  }
 },
 "nbformat": 4,
 "nbformat_minor": 5
}
