{
 "cells": [
  {
   "cell_type": "markdown",
   "id": "b776a3c4-178e-47cd-9463-be20056e17a9",
   "metadata": {},
   "source": [
    "### Question 1:\n",
    "Please write a program using generator to print the numbers which can be divisible by 5 and\n",
    "7 between 0 and n in comma separated form while n is input by console.\n",
    "\n",
    "Example:\n",
    "\n",
    "If the following n is given as input to the program:\n",
    "\n",
    "100\n",
    "\n",
    "Then, the output of the program should be:\n",
    "\n",
    "0,35,70"
   ]
  },
  {
   "cell_type": "code",
   "execution_count": 1,
   "id": "9f901713-d59d-43d8-84f1-95488048a20c",
   "metadata": {},
   "outputs": [
    {
     "name": "stdin",
     "output_type": "stream",
     "text": [
      "Enter a value for n:  100\n"
     ]
    },
    {
     "name": "stdout",
     "output_type": "stream",
     "text": [
      "0,35,70\n"
     ]
    }
   ],
   "source": [
    "def divisible_by_5_and_7(n):\n",
    "    for num in range(n + 1):\n",
    "        if num % 5 == 0 and num % 7 == 0:\n",
    "            yield num\n",
    "\n",
    "# Get the value of n from the user\n",
    "n = int(input(\"Enter a value for n: \"))\n",
    "\n",
    "# Generate the comma-separated string of numbers\n",
    "result = \",\".join(str(num) for num in divisible_by_5_and_7(n))\n",
    "\n",
    "# Print the result\n",
    "print(result)\n"
   ]
  },
  {
   "cell_type": "markdown",
   "id": "85da32e6-e7bc-4861-9ae6-cda9d919abca",
   "metadata": {},
   "source": [
    "### Question 2:\n",
    "Please write a program using generator to print the even numbers between 0 and n in comma\n",
    "separated form while n is input by console.\n",
    "\n",
    "Example:\n",
    "\n",
    "If the following n is given as input to the program:\n",
    "\n",
    "10\n",
    "\n",
    "Then, the output of the program should be:\n",
    "\n",
    "0,2,4,6,8,10"
   ]
  },
  {
   "cell_type": "code",
   "execution_count": 2,
   "id": "f534266d-b5ba-479f-aaa8-3eb0c7fdd7d6",
   "metadata": {},
   "outputs": [
    {
     "name": "stdin",
     "output_type": "stream",
     "text": [
      "Enter a value for n:  45\n"
     ]
    },
    {
     "name": "stdout",
     "output_type": "stream",
     "text": [
      "0,2,4,6,8,10,12,14,16,18,20,22,24,26,28,30,32,34,36,38,40,42,44\n"
     ]
    }
   ],
   "source": [
    "def even(n):\n",
    "    for num in range(n + 1):\n",
    "        if num % 2 == 0:\n",
    "            yield num\n",
    "            \n",
    "n = int(input(\"Enter a value for n: \"))\n",
    "\n",
    "result = \",\".join(str(num) for num in even(n))\n",
    "\n",
    "print(result)"
   ]
  },
  {
   "cell_type": "markdown",
   "id": "fd871fe3-d1bf-4e73-b05b-d05347c0970b",
   "metadata": {},
   "source": [
    "### Question 3:\n",
    "The Fibonacci Sequence is computed based on the following formula:\n",
    "\n",
    "f(n)=0 if n=0\n",
    "\n",
    "f(n)=1 if n=1\n",
    "\n",
    "f(n)=f(n-1)+f(n-2) if n&gt;1\n",
    "\n",
    "Please write a program using list comprehension to print the Fibonacci Sequence in comma\n",
    "separated form with a given n input by console.\n",
    "\n",
    "Example:\n",
    "\n",
    "If the following n is given as input to the program:\n",
    "\n",
    "7\n",
    "\n",
    "Then, the output of the program should be:\n",
    "0,1,1,2,3,5,8,13"
   ]
  },
  {
   "cell_type": "code",
   "execution_count": 9,
   "id": "c762f8bf-6894-4a2e-9b49-ef86edc1407c",
   "metadata": {},
   "outputs": [
    {
     "name": "stdin",
     "output_type": "stream",
     "text": [
      "Enter a value for n:  8\n"
     ]
    },
    {
     "name": "stdout",
     "output_type": "stream",
     "text": [
      "0,1,1,2,3,5,8,13\n"
     ]
    }
   ],
   "source": [
    "n = int(input(\"Enter a value for n: \"))\n",
    "\n",
    "fibonacci_sequence = [0, 1] + [fibonacci_sequence[i-1] + fibonacci_sequence[i-2] for i in range(2, n)]\n",
    "\n",
    "result = \",\".join(map(str, fibonacci_sequence))\n",
    "\n",
    "print(result)\n"
   ]
  },
  {
   "cell_type": "markdown",
   "id": "3e435f5f-6b46-41d8-86dd-b00b5ef82e0c",
   "metadata": {},
   "source": [
    "### Question 4:\n",
    "Assuming that we have some email addresses in the &quot;username@companyname.com&quot; format,\n",
    "please write program to print the user name of a given email address. Both user names and\n",
    "company names are composed of letters only.\n",
    "\n",
    "Example:\n",
    "\n",
    "If the following email address is given as input to the program:\n",
    "\n",
    "john@google.com\n",
    "\n",
    "Then, the output of the program should be:\n",
    "\n",
    "john"
   ]
  },
  {
   "cell_type": "code",
   "execution_count": 10,
   "id": "4001418c-00b2-416d-8398-4ca9f257e0cc",
   "metadata": {},
   "outputs": [
    {
     "name": "stdin",
     "output_type": "stream",
     "text": [
      "Enter an email address:  john@google.com\n"
     ]
    },
    {
     "name": "stdout",
     "output_type": "stream",
     "text": [
      "john\n"
     ]
    }
   ],
   "source": [
    "email = input(\"Enter an email address: \")\n",
    "\n",
    "at_index = email.index(\"@\")\n",
    "\n",
    "username = email[:at_index]\n",
    "\n",
    "print(username)\n"
   ]
  },
  {
   "cell_type": "markdown",
   "id": "99370599-8ed9-48c9-b092-3627c18f9bcf",
   "metadata": {},
   "source": [
    "### Question 5:\n",
    "Define a class named Shape and its subclass Square. The Square class has an init function\n",
    "which takes a length as argument. Both classes have a area function which can print the area\n",
    "of the shape where Shape&#39;s area is 0 by default."
   ]
  },
  {
   "cell_type": "code",
   "execution_count": 14,
   "id": "55b76df0-bb2d-4c05-82db-1cac5b7ee6be",
   "metadata": {},
   "outputs": [],
   "source": [
    "class shape():\n",
    "    def area(self):\n",
    "        return 0\n",
    "    \n",
    "class square(shape):\n",
    "    def __init__(self, length):\n",
    "        self.length = length\n",
    "    \n",
    "    def area(self):\n",
    "        return self.length ** 2"
   ]
  },
  {
   "cell_type": "code",
   "execution_count": 15,
   "id": "59524b2e-c5db-43b5-9334-bfc14d3d7131",
   "metadata": {},
   "outputs": [
    {
     "name": "stdout",
     "output_type": "stream",
     "text": [
      "25\n"
     ]
    }
   ],
   "source": [
    "sq= square(5)\n",
    "print(sq.area())"
   ]
  },
  {
   "cell_type": "code",
   "execution_count": null,
   "id": "d70acae6-fb4b-403b-9818-de1eeab02543",
   "metadata": {},
   "outputs": [],
   "source": []
  }
 ],
 "metadata": {
  "kernelspec": {
   "display_name": "Python 3 (ipykernel)",
   "language": "python",
   "name": "python3"
  },
  "language_info": {
   "codemirror_mode": {
    "name": "ipython",
    "version": 3
   },
   "file_extension": ".py",
   "mimetype": "text/x-python",
   "name": "python",
   "nbconvert_exporter": "python",
   "pygments_lexer": "ipython3",
   "version": "3.10.6"
  }
 },
 "nbformat": 4,
 "nbformat_minor": 5
}
