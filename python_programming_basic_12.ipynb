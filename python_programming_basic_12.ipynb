{
 "cells": [
  {
   "cell_type": "markdown",
   "id": "7165f756-aec3-4a99-8554-6fbb58d05c4f",
   "metadata": {},
   "source": [
    "Write a Python program to Extract Unique values dictionary values?"
   ]
  },
  {
   "cell_type": "code",
   "execution_count": 11,
   "id": "f8ccb127-4637-4f67-b319-1cc37704f391",
   "metadata": {},
   "outputs": [
    {
     "name": "stdout",
     "output_type": "stream",
     "text": [
      "Unique values: {1, 2, 3, 4, 'abc', 'def', 123}\n"
     ]
    }
   ],
   "source": [
    "def extract_unique_values(dictionary):\n",
    "    unique_values = set()\n",
    "    for values in dictionary.values():\n",
    "        if isinstance(values, (str, int)):\n",
    "            unique_values.add(values)\n",
    "        elif isinstance(values, list):\n",
    "            unique_values.update(set(values))\n",
    "    return unique_values\n",
    "\n",
    "input_dict = {\n",
    "    'key1': 123,\n",
    "    'key2': 'abc',\n",
    "    'key3': [1, 2, 3, 4],\n",
    "    'key4': ['abc', 'def', 'abc'],\n",
    "    'key5': 123,\n",
    "    'key6': [1, 2, 3, 4]\n",
    "}\n",
    "\n",
    "result = extract_unique_values(input_dict)\n",
    "print(\"Unique values:\", result)\n"
   ]
  },
  {
   "cell_type": "markdown",
   "id": "3a995f05-e845-4d85-8cda-07d75d78b5d7",
   "metadata": {},
   "source": [
    "2. Write a Python program to find the sum of all items in a dictionary?"
   ]
  },
  {
   "cell_type": "code",
   "execution_count": 13,
   "id": "7fda81a1-a814-4529-a39f-ce0819d0567c",
   "metadata": {},
   "outputs": [
    {
     "name": "stdout",
     "output_type": "stream",
     "text": [
      "Sum of all values is : 328\n"
     ]
    }
   ],
   "source": [
    "test_dict = {'k1' : 89,\n",
    "             'k2' : 111,\n",
    "             'k3' : 123,\n",
    "             'k4' : 5}\n",
    "\n",
    "print(\"Sum of all values is : {}\".format(sum(test_dict.values())))"
   ]
  },
  {
   "cell_type": "markdown",
   "id": "a2fcf6fe-3587-4caf-8765-3925d1af42f6",
   "metadata": {},
   "source": [
    "3. Write a Python program to Merging two Dictionaries?"
   ]
  },
  {
   "cell_type": "code",
   "execution_count": 14,
   "id": "9ad9cfe9-0ecc-47c0-9c09-4b92fda07fe1",
   "metadata": {},
   "outputs": [
    {
     "name": "stdout",
     "output_type": "stream",
     "text": [
      "Merged dictionary: {'a': 1, 'b': 2, 'c': 3, 'd': 4}\n"
     ]
    }
   ],
   "source": [
    "def merge_dictionaries(dict1, dict2):\n",
    "    merged_dict = dict1.copy()\n",
    "    merged_dict.update(dict2)\n",
    "    return merged_dict\n",
    "\n",
    "dict1 = {'a': 1, 'b': 2}\n",
    "dict2 = {'c': 3, 'd': 4}\n",
    "\n",
    "result = merge_dictionaries(dict1, dict2)\n",
    "print(\"Merged dictionary:\", result)\n"
   ]
  },
  {
   "cell_type": "markdown",
   "id": "412e9da8-6fad-483b-b26a-4a6c719dc408",
   "metadata": {},
   "source": [
    "4. Write a Python program to convert key-values list to flat dictionary?"
   ]
  },
  {
   "cell_type": "code",
   "execution_count": 17,
   "id": "3d60096d-48de-49c2-abe8-62415baf36bd",
   "metadata": {},
   "outputs": [
    {
     "name": "stdout",
     "output_type": "stream",
     "text": [
      "{'a': 1, 'b': 2, 'c': 3}\n",
      "{'a': 1, 'b': 2, 'c': 3}\n"
     ]
    }
   ],
   "source": [
    "key_value_list = [('a', 1), ('b', 2), ('c', 3)]\n",
    "\n",
    "print(dict(key_value_list))\n",
    "\n",
    "op={}\n",
    "for i in key_value_list:\n",
    "    op[i[0]]=i[1]\n",
    "print(op)"
   ]
  },
  {
   "cell_type": "markdown",
   "id": "1d8e3278-cfad-4af0-a511-c664ede3ac03",
   "metadata": {},
   "source": [
    "5. Write a Python program to insertion at the beginning in OrderedDict?"
   ]
  },
  {
   "cell_type": "code",
   "execution_count": 18,
   "id": "60e640b0-163f-413e-bf75-1e351fa6de6f",
   "metadata": {},
   "outputs": [
    {
     "name": "stdout",
     "output_type": "stream",
     "text": [
      "Before insertion: OrderedDict([('a', 1), ('b', 2), ('c', 3)])\n",
      "After insertion: OrderedDict([('x', 0), ('a', 1), ('b', 2), ('c', 3)])\n"
     ]
    }
   ],
   "source": [
    "from collections import OrderedDict\n",
    "\n",
    "def insert_at_beginning(ordered_dict, key, value):\n",
    "    ordered_dict[key] = value\n",
    "    ordered_dict.move_to_end(key, last=False)\n",
    "\n",
    "ordered_dict = OrderedDict([('a', 1), ('b', 2), ('c', 3)])\n",
    "\n",
    "print(\"Before insertion:\", ordered_dict)\n",
    "\n",
    "insert_at_beginning(ordered_dict, 'x', 0)\n",
    "print(\"After insertion:\", ordered_dict)\n"
   ]
  },
  {
   "cell_type": "markdown",
   "id": "62a0527a-32af-4e5e-a588-a65e7c2268f5",
   "metadata": {},
   "source": [
    "6. Write a Python program to check order of character in string using OrderedDict()?"
   ]
  },
  {
   "cell_type": "code",
   "execution_count": 20,
   "id": "82cd0d24-6b39-4f4d-ad69-1aae2a9ed482",
   "metadata": {},
   "outputs": [
    {
     "name": "stdout",
     "output_type": "stream",
     "text": [
      "Characters in order: True\n"
     ]
    }
   ],
   "source": [
    "from collections import OrderedDict\n",
    "\n",
    "def check_order_of_characters(string):\n",
    "    ordered_dict = OrderedDict()\n",
    "\n",
    "    for char in string:\n",
    "        ordered_dict[char] = None\n",
    "        \n",
    "    ordered_string = ''.join(ordered_dict.keys())\n",
    "\n",
    "    return ordered_string == string\n",
    "\n",
    "input_string = \"abc\"\n",
    "result = check_order_of_characters(input_string)\n",
    "print(\"Characters in order:\", result)\n"
   ]
  },
  {
   "cell_type": "markdown",
   "id": "9dbc1075-abbc-4a71-a2ed-b0cdbabf5d39",
   "metadata": {},
   "source": [
    "7. Write a Python program to sort Python Dictionaries by Key or Value?"
   ]
  },
  {
   "cell_type": "code",
   "execution_count": 23,
   "id": "6e4cc625-d3fb-4e89-baf0-d494f310b2b0",
   "metadata": {},
   "outputs": [
    {
     "name": "stdin",
     "output_type": "stream",
     "text": [
      "Type 'key' or 'value':  key\n"
     ]
    },
    {
     "name": "stdout",
     "output_type": "stream",
     "text": [
      "Sorted by key: {'a': 1, 'b': 2, 'c': 3}\n"
     ]
    }
   ],
   "source": [
    "def sort_dictionary_by_key(dictionary,type):\n",
    "    if type=='key':\n",
    "        sorted_dict = dict(sorted(dictionary.items(), key=lambda item: item[0]))\n",
    "    elif type=='value':\n",
    "        sorted_dict = dict(sorted(dictionary.items(), key=lambda item: item[1]))\n",
    "    return sorted_dict\n",
    "    \n",
    "my_dict = {'b': 2, 'a': 1, 'c': 3}\n",
    "by= input(\"Type 'key' or 'value': \")\n",
    "sorted_by_key = sort_dictionary_by_key(my_dict,by)\n",
    "print(\"Sorted by {}:\".format(by), sorted_by_key)"
   ]
  },
  {
   "cell_type": "code",
   "execution_count": 29,
   "id": "0b9952ec-6f5c-4edc-806a-dd6fb958fdcc",
   "metadata": {},
   "outputs": [
    {
     "data": {
      "text/plain": [
       "2"
      ]
     },
     "execution_count": 29,
     "metadata": {},
     "output_type": "execute_result"
    }
   ],
   "source": []
  },
  {
   "cell_type": "code",
   "execution_count": null,
   "id": "780366d9-5e09-4314-bf75-d4611712b075",
   "metadata": {},
   "outputs": [],
   "source": []
  }
 ],
 "metadata": {
  "kernelspec": {
   "display_name": "Python 3 (ipykernel)",
   "language": "python",
   "name": "python3"
  },
  "language_info": {
   "codemirror_mode": {
    "name": "ipython",
    "version": 3
   },
   "file_extension": ".py",
   "mimetype": "text/x-python",
   "name": "python",
   "nbconvert_exporter": "python",
   "pygments_lexer": "ipython3",
   "version": "3.10.6"
  }
 },
 "nbformat": 4,
 "nbformat_minor": 5
}
