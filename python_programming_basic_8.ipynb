{
 "cells": [
  {
   "cell_type": "markdown",
   "id": "0323ae0c-da34-4ff2-a185-fde4aab2ee51",
   "metadata": {},
   "source": [
    "1. Write a Python Program to Add Two Matrices?"
   ]
  },
  {
   "cell_type": "code",
   "execution_count": 4,
   "id": "3e3f6a05-52d5-4d28-ab96-db925f699a64",
   "metadata": {},
   "outputs": [
    {
     "name": "stdout",
     "output_type": "stream",
     "text": [
      "[17, 15, 4]\n",
      "[10, 12, 9]\n",
      "[11, 13, 15]\n"
     ]
    }
   ],
   "source": [
    "X = [[12,7,3],\n",
    "    [4 ,5,6],\n",
    "    [7 ,8,9]]\n",
    "\n",
    "Y = [[5,8,1],\n",
    "    [6,7,3],\n",
    "    [4,5,6]]\n",
    "\n",
    "result = [[0,0,0],\n",
    "         [0,0,0],\n",
    "         [0,0,0]]\n",
    "\n",
    "for i in range(len(X)):\n",
    "   for j in range(len(X[0])):\n",
    "       result[i][j] = X[i][j] + Y[i][j]\n",
    "\n",
    "for r in result:\n",
    "   print(r)\n"
   ]
  },
  {
   "cell_type": "markdown",
   "id": "cb75f90c-e96a-4524-afad-9e9acf009ab6",
   "metadata": {},
   "source": [
    "2. Write a Python Program to Multiply Two Matrices?"
   ]
  },
  {
   "cell_type": "code",
   "execution_count": 8,
   "id": "4176e417-918c-4db3-81c6-9e26c6012b1f",
   "metadata": {},
   "outputs": [
    {
     "name": "stdout",
     "output_type": "stream",
     "text": [
      "[50, 55, 25]\n",
      "[80, 85, 37]\n",
      "[103, 111, 49]\n"
     ]
    }
   ],
   "source": [
    "A = [[1, 5, 3],\n",
    "    [4, 5, 6],\n",
    "    [4, 8, 7]]\n",
    "\n",
    "B = [[5, 5, 1],\n",
    "    [6, 7, 3],\n",
    "    [5, 5, 3]]\n",
    "\n",
    "result = [[0, 0, 0],\n",
    "        [0, 0, 0],\n",
    "        [0, 0, 0]]\n",
    "\n",
    "for i in range(len(A)):\n",
    "    for j in range(len(B[0])):\n",
    "        for k in range(len(B)):\n",
    "            result[i][j] += A[i][k] * B[k][j]\n",
    "\n",
    "for r in result:\n",
    "    print(r)"
   ]
  },
  {
   "cell_type": "markdown",
   "id": "2ace6166-ca27-4ab1-8ea3-7ca427ddb8a9",
   "metadata": {},
   "source": [
    "3. Write a Python Program to Transpose a Matrix?"
   ]
  },
  {
   "cell_type": "code",
   "execution_count": 10,
   "id": "120a55be-787e-4ca3-80a6-4f9bb06a6e8e",
   "metadata": {},
   "outputs": [
    {
     "name": "stdout",
     "output_type": "stream",
     "text": [
      "\n",
      "The transposed matrix is:\n",
      "[1, 4, 7]\n",
      "[2, 5, 8]\n",
      "[3, 6, 9]\n"
     ]
    }
   ],
   "source": [
    "def transpose_matrix(matrix):\n",
    "    rows = len(matrix)\n",
    "    columns = len(matrix[0])\n",
    "\n",
    "    transpose = [[0 for x in range(rows)] for y in range(columns)]\n",
    "\n",
    "    for i in range(rows):\n",
    "        for j in range(columns):\n",
    "            transpose[j][i] = matrix[i][j]\n",
    "\n",
    "    return transpose\n",
    "\n",
    "matrix = [[1, 2, 3],\n",
    "          [4, 5, 6],\n",
    "          [7, 8, 9]]\n",
    "\n",
    "transposed_matrix = transpose_matrix(matrix)\n",
    "\n",
    "print(\"\\nThe transposed matrix is:\")\n",
    "for row in transposed_matrix:\n",
    "    print(row)\n"
   ]
  },
  {
   "cell_type": "markdown",
   "id": "43c8b2aa-cdd0-4ff6-9fee-273f2cb4db55",
   "metadata": {},
   "source": [
    "4. Write a Python Program to Sort Words in Alphabetic Order?"
   ]
  },
  {
   "cell_type": "code",
   "execution_count": 15,
   "id": "bd614284-11da-4cbd-a5dc-0d6857f19217",
   "metadata": {},
   "outputs": [
    {
     "name": "stdin",
     "output_type": "stream",
     "text": [
      "Enter a sentence:  hi what is your name\n"
     ]
    },
    {
     "name": "stdout",
     "output_type": "stream",
     "text": [
      "\n",
      "Words in alphabetical order:\n",
      "hi is name what your "
     ]
    }
   ],
   "source": [
    "def sort_words(words):\n",
    "    word_list = words.split()\n",
    "\n",
    "    sorted_words = sorted(word_list)\n",
    "\n",
    "    return sorted_words\n",
    "\n",
    "sentence = input(\"Enter a sentence: \")\n",
    "\n",
    "sorted_words = sort_words(sentence)\n",
    "\n",
    "print(\"\\nWords in alphabetical order:\")\n",
    "for word in sorted_words:\n",
    "    print(word, end=\" \")\n"
   ]
  },
  {
   "cell_type": "markdown",
   "id": "34fc7302-41f4-4478-8396-6f6beb328ce4",
   "metadata": {},
   "source": [
    "5. Write a Python Program to Remove Punctuation From a String?"
   ]
  },
  {
   "cell_type": "code",
   "execution_count": 16,
   "id": "85282a66-f63c-4605-a19c-549155a65272",
   "metadata": {},
   "outputs": [
    {
     "name": "stdin",
     "output_type": "stream",
     "text": [
      "Enter a string:  HI! How..[.'are';[.you?\n"
     ]
    },
    {
     "name": "stdout",
     "output_type": "stream",
     "text": [
      "\n",
      "String without punctuation: HI Howareyou\n"
     ]
    }
   ],
   "source": [
    "def remove_punctuation(text):\n",
    "    punctuation_chars = '''!()-[]{};:'\"\\,<>./?@#$%^&*_~'''\n",
    "\n",
    "    text_without_punctuation = \"\"\n",
    "    for char in text:\n",
    "        if char not in punctuation_chars:\n",
    "            text_without_punctuation += char\n",
    "\n",
    "    return text_without_punctuation\n",
    "\n",
    "input_string = input(\"Enter a string: \")\n",
    "\n",
    "string_without_punctuation = remove_punctuation(input_string)\n",
    "\n",
    "print(\"\\nString without punctuation:\", string_without_punctuation)\n"
   ]
  },
  {
   "cell_type": "code",
   "execution_count": null,
   "id": "da8aa5ef-9634-423e-b26c-67a26ba0c100",
   "metadata": {},
   "outputs": [],
   "source": []
  }
 ],
 "metadata": {
  "kernelspec": {
   "display_name": "Python 3 (ipykernel)",
   "language": "python",
   "name": "python3"
  },
  "language_info": {
   "codemirror_mode": {
    "name": "ipython",
    "version": 3
   },
   "file_extension": ".py",
   "mimetype": "text/x-python",
   "name": "python",
   "nbconvert_exporter": "python",
   "pygments_lexer": "ipython3",
   "version": "3.10.6"
  }
 },
 "nbformat": 4,
 "nbformat_minor": 5
}
