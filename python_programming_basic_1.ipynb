{
 "cells": [
  {
   "cell_type": "markdown",
   "id": "1cdb504f-92a1-4d7d-bfc3-b3e829821726",
   "metadata": {},
   "source": [
    "1. Write a Python program to print \"Hello Python\"?"
   ]
  },
  {
   "cell_type": "code",
   "execution_count": 1,
   "id": "d3d3e105-5298-4281-a6c7-ef434957842f",
   "metadata": {},
   "outputs": [
    {
     "name": "stdout",
     "output_type": "stream",
     "text": [
      "Hello Python\n"
     ]
    }
   ],
   "source": [
    "print(\"Hello Python\")"
   ]
  },
  {
   "cell_type": "markdown",
   "id": "01d850e6-08d2-457b-b179-078f9afc894f",
   "metadata": {},
   "source": [
    "2.Write a Python program to do arithmetic operations addition and division ?"
   ]
  },
  {
   "cell_type": "code",
   "execution_count": 2,
   "id": "d4c6aaf6-baec-46ae-8b63-f0291271e741",
   "metadata": {},
   "outputs": [
    {
     "name": "stdin",
     "output_type": "stream",
     "text": [
      "Enter the first number:  1\n",
      "Enter the second number:  1\n"
     ]
    },
    {
     "name": "stdout",
     "output_type": "stream",
     "text": [
      "The sum of 1.0 and 1.0 is: 2.0\n"
     ]
    },
    {
     "name": "stdin",
     "output_type": "stream",
     "text": [
      "Enter the numerator:  3\n",
      "Enter the denominator (non-zero):  4\n"
     ]
    },
    {
     "name": "stdout",
     "output_type": "stream",
     "text": [
      "The division of 3.0 by 4.0 is: 0.75\n"
     ]
    }
   ],
   "source": [
    "# Addition\n",
    "num1 = float(input(\"Enter the first number: \"))\n",
    "num2 = float(input(\"Enter the second number: \"))\n",
    "sum_result = num1 + num2\n",
    "print(\"The sum of {} and {} is: {}\".format(num1, num2, sum_result))\n",
    "\n",
    "# Division\n",
    "num1 = float(input(\"Enter the numerator: \"))\n",
    "num2 = float(input(\"Enter the denominator (non-zero): \"))\n",
    "if num2 != 0:\n",
    "    division_result = num1 / num2\n",
    "    print(\"The division of {} by {} is: {}\".format(num1, num2, division_result))\n",
    "else:\n",
    "    print(\"Error: Division by zero is not allowed.\")\n",
    "\n"
   ]
  },
  {
   "cell_type": "markdown",
   "id": "a0cc6816-5ebf-40e9-9718-97c463d5544a",
   "metadata": {},
   "source": [
    "3. Write a Python program to find the area of a triangle?"
   ]
  },
  {
   "cell_type": "code",
   "execution_count": 5,
   "id": "f2184975-240b-4078-9398-29619cf1a27b",
   "metadata": {},
   "outputs": [
    {
     "name": "stdout",
     "output_type": "stream",
     "text": [
      "Area of triangle: 850.0\n"
     ]
    }
   ],
   "source": [
    "height = 100\n",
    "base = 17\n",
    "\n",
    "area = height*base/2\n",
    "\n",
    "print(\"Area of triangle:\", area)"
   ]
  },
  {
   "cell_type": "markdown",
   "id": "ad65268d-6b3a-4b62-b05a-c1a8c7e82c00",
   "metadata": {},
   "source": [
    "4. Write a Python program to swap two variables?"
   ]
  },
  {
   "cell_type": "code",
   "execution_count": 6,
   "id": "327d2935-7a1a-4e03-967a-9c1bfb27ea04",
   "metadata": {},
   "outputs": [
    {
     "name": "stdout",
     "output_type": "stream",
     "text": [
      "Before swap:\n",
      "var1 = 123 and var2 = 456\n",
      "\n",
      "After swap:\n",
      "var1 = 456 and var2 = 123\n"
     ]
    }
   ],
   "source": [
    "var1 = 123\n",
    "var2 = 456\n",
    "\n",
    "print('Before swap:\\nvar1 = {} and var2 = {}'.format(var1, var2))\n",
    "\n",
    "temp = var1\n",
    "var1 = var2\n",
    "var2 = temp\n",
    "print('\\nAfter swap:\\nvar1 = {} and var2 = {}'.format(var1, var2))"
   ]
  },
  {
   "cell_type": "markdown",
   "id": "865f81a7-9b27-4c5b-8c63-25bf998875e3",
   "metadata": {},
   "source": [
    "5. Write a Python program to generate a random number?"
   ]
  },
  {
   "cell_type": "code",
   "execution_count": null,
   "id": "f795a68f-7c3b-45d9-b3fa-4474a4e93e60",
   "metadata": {},
   "outputs": [],
   "source": [
    "import random"
   ]
  }
 ],
 "metadata": {
  "kernelspec": {
   "display_name": "Python 3 (ipykernel)",
   "language": "python",
   "name": "python3"
  },
  "language_info": {
   "codemirror_mode": {
    "name": "ipython",
    "version": 3
   },
   "file_extension": ".py",
   "mimetype": "text/x-python",
   "name": "python",
   "nbconvert_exporter": "python",
   "pygments_lexer": "ipython3",
   "version": "3.10.6"
  }
 },
 "nbformat": 4,
 "nbformat_minor": 5
}
