{
 "cells": [
  {
   "cell_type": "markdown",
   "id": "87008dab-0386-40be-80eb-be9305cef5b7",
   "metadata": {},
   "source": [
    "1. Write a Python program to find sum of elements in list?"
   ]
  },
  {
   "cell_type": "code",
   "execution_count": 1,
   "id": "ff814f91-00a6-47ea-8d15-b8274ebc1948",
   "metadata": {},
   "outputs": [
    {
     "name": "stdin",
     "output_type": "stream",
     "text": [
      "Enter the array elements:  3,4,5,6,7\n"
     ]
    },
    {
     "name": "stdout",
     "output_type": "stream",
     "text": [
      "25\n"
     ]
    }
   ],
   "source": [
    "numbers = eval(input(\"Enter the array elements: \"))\n",
    "numbers = [int(num) for num in numbers]\n",
    "total = 0\n",
    "for i in numbers:\n",
    "    total += i\n",
    "print(total)"
   ]
  },
  {
   "cell_type": "markdown",
   "id": "dc6c52b5-3802-44e3-83d9-d8f52cbb78d0",
   "metadata": {},
   "source": [
    "2. Write a Python program to Multiply all numbers in the list?"
   ]
  },
  {
   "cell_type": "code",
   "execution_count": 2,
   "id": "fca21b4f-230e-4274-929d-8e077ad26b9d",
   "metadata": {},
   "outputs": [
    {
     "name": "stdin",
     "output_type": "stream",
     "text": [
      "Enter the array elements:  2,3,4,5\n"
     ]
    },
    {
     "name": "stdout",
     "output_type": "stream",
     "text": [
      "120\n"
     ]
    }
   ],
   "source": [
    "numbers = eval(input(\"Enter the array elements: \"))\n",
    "numbers = [int(num) for num in numbers]\n",
    "mul = 1\n",
    "for i in numbers:\n",
    "    mul *= i\n",
    "print(mul)"
   ]
  },
  {
   "cell_type": "markdown",
   "id": "d858a43e-2ea3-4b2a-818b-1b2c65089513",
   "metadata": {},
   "source": [
    "3. Write a Python program to find smallest number in a list?"
   ]
  },
  {
   "cell_type": "code",
   "execution_count": 5,
   "id": "e35e28e6-4228-4fa0-a993-951480f88cbf",
   "metadata": {},
   "outputs": [
    {
     "name": "stdin",
     "output_type": "stream",
     "text": [
      "Enter the array elements:  6,4,7,-1,57\n"
     ]
    },
    {
     "name": "stdout",
     "output_type": "stream",
     "text": [
      "-1\n"
     ]
    }
   ],
   "source": [
    "numbers = eval(input(\"Enter the array elements: \"))\n",
    "numbers = [int(num) for num in numbers]\n",
    "\n",
    "minimum = numbers[0]\n",
    "for i in numbers:\n",
    "    if i < minimum:\n",
    "        minimum = i\n",
    "        \n",
    "print(minimum)"
   ]
  },
  {
   "cell_type": "markdown",
   "id": "a285a833-8990-4d5f-bddb-9c66878880ef",
   "metadata": {},
   "source": [
    "4. Write a Python program to find largest number in a list?"
   ]
  },
  {
   "cell_type": "code",
   "execution_count": 4,
   "id": "0078071f-17e5-4846-8318-c45f6f2a0629",
   "metadata": {},
   "outputs": [
    {
     "name": "stdin",
     "output_type": "stream",
     "text": [
      "Enter the array elements:  1,0,-4,9,5\n"
     ]
    },
    {
     "name": "stdout",
     "output_type": "stream",
     "text": [
      "9\n"
     ]
    }
   ],
   "source": [
    "numbers = eval(input(\"Enter the array elements: \"))\n",
    "numbers = [int(num) for num in numbers]\n",
    "\n",
    "maximum = numbers[0]\n",
    "for i in numbers:\n",
    "    if i > maximum:\n",
    "        maximum = i\n",
    "        \n",
    "print(maximum)"
   ]
  },
  {
   "cell_type": "markdown",
   "id": "2ebed50e-0a07-467f-a1f9-320fd081c75a",
   "metadata": {},
   "source": [
    "5. Write a Python program to find second largest number in a list?"
   ]
  },
  {
   "cell_type": "code",
   "execution_count": 10,
   "id": "61763014-5911-4956-b16f-7e926d05aff5",
   "metadata": {},
   "outputs": [
    {
     "name": "stdin",
     "output_type": "stream",
     "text": [
      "Enter the array elements:  3,4,5,6\n"
     ]
    },
    {
     "name": "stdout",
     "output_type": "stream",
     "text": [
      "5\n"
     ]
    }
   ],
   "source": [
    "numbers = eval(input(\"Enter the array elements: \"))\n",
    "numbers = [int(num) for num in numbers]\n",
    "\n",
    "second_maximum = sorted(numbers, reverse=True)[1]\n",
    "print(second_maximum)"
   ]
  },
  {
   "cell_type": "markdown",
   "id": "27b72210-2bfc-48ad-8e37-a25c0c154c0d",
   "metadata": {},
   "source": [
    "6. Write a Python program to find N largest elements from a list?"
   ]
  },
  {
   "cell_type": "code",
   "execution_count": 12,
   "id": "9bb73ee0-c2d9-4a3f-9ef8-2f7d11bc5d62",
   "metadata": {},
   "outputs": [
    {
     "name": "stdin",
     "output_type": "stream",
     "text": [
      "Enter the array elements:  4,5,6,2,3,9,8,7\n",
      "Enter the value of N:  3\n"
     ]
    },
    {
     "name": "stdout",
     "output_type": "stream",
     "text": [
      "N largest elements: [9, 8, 7]\n"
     ]
    }
   ],
   "source": [
    "def find_n_largest_elements(numbers, n):\n",
    "    if len(numbers) < n:\n",
    "        return None\n",
    "\n",
    "    largest_elements = sorted(numbers, reverse=True)[:n]\n",
    "    return largest_elements\n",
    "\n",
    "numbers = eval(input(\"Enter the array elements: \"))\n",
    "numbers = [int(num) for num in numbers]\n",
    "\n",
    "n = int(input(\"Enter the value of N: \"))\n",
    "\n",
    "n_largest_elements = find_n_largest_elements(numbers, n)\n",
    "\n",
    "if n_largest_elements is not None:\n",
    "    print(\"N largest elements:\", n_largest_elements)\n",
    "else:\n",
    "    print(\"The list does not have N elements.\")\n"
   ]
  },
  {
   "cell_type": "markdown",
   "id": "bb4d22d1-f63d-452d-8259-50dd2c27b141",
   "metadata": {},
   "source": [
    "7. Write a Python program to print even numbers in a list?"
   ]
  },
  {
   "cell_type": "code",
   "execution_count": 13,
   "id": "14ff1ab0-fe72-4e34-b5ac-fab4147d3972",
   "metadata": {},
   "outputs": [
    {
     "name": "stdin",
     "output_type": "stream",
     "text": [
      "Enter the array elements:  3,4,5,6,7\n"
     ]
    },
    {
     "data": {
      "text/plain": [
       "[4, 6]"
      ]
     },
     "execution_count": 13,
     "metadata": {},
     "output_type": "execute_result"
    }
   ],
   "source": [
    "numbers = eval(input(\"Enter the array elements: \"))\n",
    "numbers = [int(num) for num in numbers]\n",
    "\n",
    "[ i for i in numbers if i%2 == 0]"
   ]
  },
  {
   "cell_type": "markdown",
   "id": "30a89327-c6f3-4356-8d03-2c268577bbc9",
   "metadata": {},
   "source": [
    "8. Write a Python program to print odd numbers in a List?"
   ]
  },
  {
   "cell_type": "code",
   "execution_count": 14,
   "id": "b11c46dc-cff8-484b-b451-5e13a9220f3a",
   "metadata": {},
   "outputs": [
    {
     "name": "stdin",
     "output_type": "stream",
     "text": [
      "Enter the array elements:  1,2,3,4,5\n"
     ]
    },
    {
     "data": {
      "text/plain": [
       "[1, 3, 5]"
      ]
     },
     "execution_count": 14,
     "metadata": {},
     "output_type": "execute_result"
    }
   ],
   "source": [
    "numbers = eval(input(\"Enter the array elements: \"))\n",
    "numbers = [int(num) for num in numbers]\n",
    "\n",
    "[ i for i in numbers if i%2 != 0]"
   ]
  },
  {
   "cell_type": "markdown",
   "id": "6d1c768a-390b-413b-bece-385dc39e6c98",
   "metadata": {},
   "source": [
    "9. Write a Python program to Remove empty List from List?"
   ]
  },
  {
   "cell_type": "code",
   "execution_count": 20,
   "id": "4bc6f972-3f78-4bbe-a728-03cf1f6cbc1a",
   "metadata": {},
   "outputs": [
    {
     "name": "stdin",
     "output_type": "stream",
     "text": [
      "Enter the array elements:  3,4,[],5,[]\n"
     ]
    },
    {
     "data": {
      "text/plain": [
       "[3, 4, 5]"
      ]
     },
     "execution_count": 20,
     "metadata": {},
     "output_type": "execute_result"
    }
   ],
   "source": [
    "numbers = eval(input(\"Enter the array elements: \"))\n",
    "\n",
    "result = []\n",
    "for i in numbers:\n",
    "    if type(i) == list:\n",
    "        if len(i) != 0:\n",
    "            result.append(i)\n",
    "    else:\n",
    "        result.append(i)\n",
    "        \n",
    "result"
   ]
  },
  {
   "cell_type": "markdown",
   "id": "699f22f0-1d5e-4702-a340-d86a4c905a39",
   "metadata": {},
   "source": [
    "10. Write a Python program to Cloning or Copying a list?"
   ]
  },
  {
   "cell_type": "code",
   "execution_count": 21,
   "id": "97dc90e3-0bbc-416d-9296-3c9e744f8dca",
   "metadata": {},
   "outputs": [
    {
     "name": "stdin",
     "output_type": "stream",
     "text": [
      "Enter the array elements:  3,4,5,6,7\n"
     ]
    },
    {
     "data": {
      "text/plain": [
       "[3, 4, 5, 6, 7]"
      ]
     },
     "execution_count": 21,
     "metadata": {},
     "output_type": "execute_result"
    }
   ],
   "source": [
    "def clone_list(original_list):\n",
    "    cloned_list = []\n",
    "    for item in original_list:\n",
    "        cloned_list.append(item)\n",
    "    return cloned_list\n",
    "\n",
    "numbers = eval(input(\"Enter the array elements: \"))\n",
    "numbers = [int(num) for num in numbers]\n",
    "\n",
    "clone_list(numbers)"
   ]
  },
  {
   "cell_type": "markdown",
   "id": "275d676c-7522-48bf-b3aa-29574ba523d0",
   "metadata": {},
   "source": [
    "11. Write a Python program to Count occurrences of an element in a list?"
   ]
  },
  {
   "cell_type": "code",
   "execution_count": 26,
   "id": "0e0c62a3-4787-4c84-8be4-1d12c9bb4ddb",
   "metadata": {},
   "outputs": [
    {
     "name": "stdin",
     "output_type": "stream",
     "text": [
      "Enter the array elements:  2,2,2,3\n",
      "Enter the element to find:  2\n"
     ]
    },
    {
     "data": {
      "text/plain": [
       "3"
      ]
     },
     "execution_count": 26,
     "metadata": {},
     "output_type": "execute_result"
    }
   ],
   "source": [
    "def occurrences(numbers, num):\n",
    "    count = 0\n",
    "    for i in numbers:\n",
    "        if i == num:\n",
    "            count += 1\n",
    "            \n",
    "    return count\n",
    "\n",
    "numbers = eval(input(\"Enter the array elements: \"))\n",
    "num = eval(input('Enter the element to find: '))\n",
    "occurrences(numbers, num)"
   ]
  },
  {
   "cell_type": "code",
   "execution_count": null,
   "id": "6d9a5892-f10b-4ec4-adc4-43bba0ecf2e0",
   "metadata": {},
   "outputs": [],
   "source": []
  }
 ],
 "metadata": {
  "kernelspec": {
   "display_name": "Python 3 (ipykernel)",
   "language": "python",
   "name": "python3"
  },
  "language_info": {
   "codemirror_mode": {
    "name": "ipython",
    "version": 3
   },
   "file_extension": ".py",
   "mimetype": "text/x-python",
   "name": "python",
   "nbconvert_exporter": "python",
   "pygments_lexer": "ipython3",
   "version": "3.10.6"
  }
 },
 "nbformat": 4,
 "nbformat_minor": 5
}
